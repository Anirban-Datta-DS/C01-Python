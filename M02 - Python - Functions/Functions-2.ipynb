{
 "cells": [
  {
   "cell_type": "markdown",
   "id": "ca749282-e874-4a39-8f4d-f179915c121d",
   "metadata": {},
   "source": [
    "## Functions\n",
    "### Scope\n",
    "LEGB: Local -> Enclosing funtion -> Global -> Built-in"
   ]
  },
  {
   "cell_type": "code",
   "execution_count": 7,
   "id": "462f5af0-b7d8-4646-92e2-52749dff6f90",
   "metadata": {
    "tags": []
   },
   "outputs": [
    {
     "name": "stdout",
     "output_type": "stream",
     "text": [
      "a = 1\n",
      "a = 2 a = 3\n"
     ]
    }
   ],
   "source": [
    "a = 1\n",
    "\n",
    "def simple():\n",
    "    \n",
    "    return f'a = {a}'\n",
    "\n",
    "def outer():\n",
    "    \n",
    "    a = 2\n",
    "    \n",
    "    def inner():\n",
    "        \n",
    "        a = 3\n",
    "        return f'a = {a}'\n",
    "    \n",
    "    return f'a = {a}', inner()\n",
    "\n",
    "print(simple())\n",
    "print(*outer())"
   ]
  },
  {
   "cell_type": "markdown",
   "id": "9e792741-0734-4841-9176-e509b3bac409",
   "metadata": {},
   "source": [
    "### Global and Non-local scope"
   ]
  },
  {
   "cell_type": "code",
   "execution_count": 11,
   "id": "26b237b4-e17a-4214-8b1f-c098f56dfd17",
   "metadata": {},
   "outputs": [
    {
     "data": {
      "text/plain": [
       "(3, 4)"
      ]
     },
     "execution_count": 11,
     "metadata": {},
     "output_type": "execute_result"
    }
   ],
   "source": [
    "a = 1 \n",
    "b = 2\n",
    "\n",
    "def func1():\n",
    "    \n",
    "    a = 3 \n",
    "    b = 4\n",
    "    \n",
    "    def func2():\n",
    "        \n",
    "        global a, b\n",
    "        \n",
    "        a = 5 \n",
    "        b = 6\n",
    "        \n",
    "        return a, b\n",
    "    \n",
    "    func2()\n",
    "    return a, b\n",
    "\n",
    "func1()"
   ]
  }
 ],
 "metadata": {
  "kernelspec": {
   "display_name": "Python 3",
   "language": "python",
   "name": "python3"
  },
  "language_info": {
   "codemirror_mode": {
    "name": "ipython",
    "version": 3
   },
   "file_extension": ".py",
   "mimetype": "text/x-python",
   "name": "python",
   "nbconvert_exporter": "python",
   "pygments_lexer": "ipython3",
   "version": "3.8.8"
  }
 },
 "nbformat": 4,
 "nbformat_minor": 5
}
