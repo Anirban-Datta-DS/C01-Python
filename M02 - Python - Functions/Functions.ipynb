{
 "cells": [
  {
   "cell_type": "markdown",
   "id": "6ffe0172-2101-4eee-8f4d-5f2ff1cd6566",
   "metadata": {},
   "source": [
    "# Functions\n",
    "* <b>Function</b> A function is a collection of code intended to perform a specific task.\n",
    "* <b>Method</b>: A method is a function which resides inside a class.\n",
    "* <b>Parameter</b>: A parameter is an expected input for a function.\n",
    "* <b>Argument</b>: An argument is the value provided for the parameter in the function call."
   ]
  },
  {
   "cell_type": "code",
   "execution_count": 1,
   "id": "9510e036-1d49-4ad6-b713-8d8d10cef227",
   "metadata": {},
   "outputs": [
    {
     "name": "stdout",
     "output_type": "stream",
     "text": [
      "What's your name?Anirban Datta\n",
      "Hello, Anirban Datta!\n"
     ]
    }
   ],
   "source": [
    "def hello_name(name:str) -> str:\n",
    "    \n",
    "    print(f'Hello, {name}!')\n",
    "\n",
    "name = input(f'What\\'s your name?')\n",
    "hello_name(name)"
   ]
  },
  {
   "cell_type": "markdown",
   "id": "f22a6757-73da-4559-a2e4-fc026e9830a0",
   "metadata": {},
   "source": [
    "### Simple Functions"
   ]
  },
  {
   "cell_type": "code",
   "execution_count": 2,
   "id": "6bc5a0aa-c97f-4057-a160-1a0bb7cbf733",
   "metadata": {},
   "outputs": [
    {
     "name": "stdout",
     "output_type": "stream",
     "text": [
      "Please enter a number:34\n",
      "34 is even.\n"
     ]
    }
   ],
   "source": [
    "# Function to calculate whether a number is even or odd.\n",
    "\n",
    "def even_odd(num):\n",
    "                 \n",
    "    if num % 2 == 0:\n",
    "        print(f'{num} is even.')\n",
    "    else:\n",
    "        print(f'{num} is odd.')\n",
    "\n",
    "num = int(input(f'Please enter a number:'))\n",
    "even_odd(num)"
   ]
  },
  {
   "cell_type": "code",
   "execution_count": 3,
   "id": "b93eaab1-b7a8-45c3-a1c4-b011824abeb2",
   "metadata": {},
   "outputs": [
    {
     "data": {
      "text/plain": [
       "40320"
      ]
     },
     "execution_count": 3,
     "metadata": {},
     "output_type": "execute_result"
    }
   ],
   "source": [
    "# A function to calculate factorial.\n",
    "\n",
    "def factorial(num):\n",
    "    \n",
    "    prod = 1\n",
    "    while num >=1:\n",
    "        prod*=num\n",
    "        num-=1\n",
    "    \n",
    "    return prod\n",
    "\n",
    "factorial(8)"
   ]
  },
  {
   "cell_type": "code",
   "execution_count": 4,
   "id": "12503da3-7b15-44ef-9a86-adf4f1ed0f6d",
   "metadata": {},
   "outputs": [
    {
     "name": "stdout",
     "output_type": "stream",
     "text": [
      "Enter a number:971\n",
      "971 is a prime number.\n"
     ]
    }
   ],
   "source": [
    "# A funciton to check whether a number is prime or not.\n",
    "\n",
    "def check_prime():\n",
    "    \n",
    "    n = int(input('Enter a number:'))\n",
    "    factors = []\n",
    "    \n",
    "    for i in range(2, n):\n",
    "        if n % i == 0:\n",
    "            factors.append(i)\n",
    "\n",
    "    if len(factors)>=1:\n",
    "        print(f'{n} is not a prime number, its factors are: {factors}.')\n",
    "    else:\n",
    "        print(f'{n} is a prime number.')\n",
    "\n",
    "check_prime()"
   ]
  },
  {
   "cell_type": "code",
   "execution_count": 5,
   "id": "618201f5-0dde-48ea-9478-3fb2181f8022",
   "metadata": {},
   "outputs": [
    {
     "name": "stdout",
     "output_type": "stream",
     "text": [
      "How many prime numbers do you want?20\n",
      "[2, 3, 5, 7, 11, 13, 17, 19, 23, 29, 31, 37, 41, 43, 47, 53, 59, 61, 67, 71]\n"
     ]
    }
   ],
   "source": [
    "def prime_list():\n",
    "    \n",
    "    p = int(input('How many prime numbers do you want?'))\n",
    "    lst = []\n",
    "    \n",
    "    def check_prime(num):\n",
    "        x = 1\n",
    "        for i in range(2, num):\n",
    "            if num%i == 0:\n",
    "                x = 0\n",
    "                break\n",
    "            else:\n",
    "                x = 1\n",
    "        return x\n",
    "    \n",
    "    i = 2\n",
    "    count = 1\n",
    "    while True:\n",
    "        if check_prime(i):\n",
    "            lst.append(i)\n",
    "            count +=1\n",
    "            \n",
    "        i += 1\n",
    "        if count>p:\n",
    "            break\n",
    "    \n",
    "    print(lst)\n",
    "    \n",
    "\n",
    "prime_list()"
   ]
  },
  {
   "cell_type": "markdown",
   "id": "19342677",
   "metadata": {},
   "source": [
    "### Return value\n",
    "Every function must return a value. If nothing is returned, it returns <code>None</code>."
   ]
  },
  {
   "cell_type": "code",
   "execution_count": 16,
   "id": "cd240718",
   "metadata": {},
   "outputs": [
    {
     "name": "stdout",
     "output_type": "stream",
     "text": [
      "Hello!\n",
      "None\n"
     ]
    }
   ],
   "source": [
    "def greet():\n",
    "    print('Hello!')\n",
    "    \n",
    "a = greet()\n",
    "print(a)"
   ]
  },
  {
   "cell_type": "markdown",
   "id": "d422f2ef-c33e-4708-a4ae-e5cc5169ead3",
   "metadata": {},
   "source": [
    "### Returning Multiple Values"
   ]
  },
  {
   "cell_type": "code",
   "execution_count": 6,
   "id": "5a539aca-ca4e-4cf3-b6b4-18053c3452d7",
   "metadata": {},
   "outputs": [
    {
     "name": "stdout",
     "output_type": "stream",
     "text": [
      "<class 'tuple'>\n",
      "(120, 80, 2000, 5.0)\n",
      "\n",
      "addition = 120\n",
      "subtraction = 80\n",
      "\n",
      "\n"
     ]
    }
   ],
   "source": [
    "def my_calc(a, b):\n",
    "    c = a + b\n",
    "    d = a - b\n",
    "    e = a * b\n",
    "    f = a / b\n",
    "    \n",
    "    return c, d, e, f\n",
    "\n",
    "result = my_calc(100, 20)\n",
    "print(type(result))\n",
    "print(result)\n",
    "print(f'''\n",
    "addition = {result[0]}\n",
    "subtraction = {result[1]}\n",
    "\n",
    "'''\n",
    ")"
   ]
  },
  {
   "cell_type": "markdown",
   "id": "7f3de15f-296c-4688-8fdf-698ff5942e63",
   "metadata": {},
   "source": [
    "### Functions are First Class Objects\n",
    "\n",
    "* Assign a function to a variable\n",
    "* Define one function inside another function\n",
    "* Pass a function as parameter to another function\n",
    "* A function can return another function"
   ]
  },
  {
   "cell_type": "code",
   "execution_count": 7,
   "id": "fbfc1b67-666c-40b0-b03c-7ac8dcfc0306",
   "metadata": {},
   "outputs": [
    {
     "data": {
      "text/plain": [
       "'Hello!'"
      ]
     },
     "execution_count": 7,
     "metadata": {},
     "output_type": "execute_result"
    }
   ],
   "source": [
    "def display():\n",
    "    def message():\n",
    "        return 'Hello!'\n",
    "    \n",
    "    return message\n",
    "\n",
    "# Calling the display() function returns the message() function, but doesn't call the message() function\n",
    "display()\n",
    "\n",
    "# In the following code, func refers to the name message.\n",
    "func  = display()\n",
    "func()"
   ]
  },
  {
   "cell_type": "markdown",
   "id": "abca6ab1-1308-4fbc-9988-acd447986785",
   "metadata": {},
   "source": [
    "### Positional and Keyword arguments"
   ]
  },
  {
   "cell_type": "code",
   "execution_count": 8,
   "id": "b03d3737-c599-4f7d-b426-4fc6a87c9aec",
   "metadata": {},
   "outputs": [
    {
     "name": "stdout",
     "output_type": "stream",
     "text": [
      "10\n",
      "13\n"
     ]
    }
   ],
   "source": [
    "def add(a, b):\n",
    "    return a+b\n",
    "\n",
    "# Positional arguments\n",
    "result1 = add(4, 6)\n",
    "print(result1)\n",
    "\n",
    "# Keyword arguments\n",
    "result2 = add(b = 6, a = 7)\n",
    "print(result2)"
   ]
  },
  {
   "cell_type": "markdown",
   "id": "b140886e",
   "metadata": {},
   "source": [
    "### Variable length arguments"
   ]
  },
  {
   "cell_type": "code",
   "execution_count": 11,
   "id": "cbf75b79",
   "metadata": {},
   "outputs": [
    {
     "name": "stdout",
     "output_type": "stream",
     "text": [
      "Total sum is: 15.\n"
     ]
    },
    {
     "data": {
      "text/plain": [
       "15"
      ]
     },
     "execution_count": 11,
     "metadata": {},
     "output_type": "execute_result"
    }
   ],
   "source": [
    "# Variable length arguments\n",
    "def add(*args):\n",
    "    \n",
    "    sum = 0\n",
    "    for i in args:\n",
    "        sum+=i\n",
    "        \n",
    "    print(f'Total sum is: {sum}.')\n",
    "    return sum\n",
    "\n",
    "add(1, 2, 3, 4, 5)"
   ]
  },
  {
   "cell_type": "markdown",
   "id": "12e467fc",
   "metadata": {},
   "source": [
    "* Bear in mind that the iterable object you’ll get using the unpacking operator * is not a list but a tuple. \n",
    "* A tuple is similar to a list in that they both support slicing and iteration. \n",
    "* However, tuples are very different in at least one aspect: lists are mutable, while tuples are not."
   ]
  },
  {
   "cell_type": "code",
   "execution_count": 10,
   "id": "d571b418",
   "metadata": {},
   "outputs": [
    {
     "name": "stdout",
     "output_type": "stream",
     "text": [
      "Total sum is: 11.\n"
     ]
    }
   ],
   "source": [
    "# Variable length keyword arguments\n",
    "def add(**kwargs):\n",
    "    \n",
    "    sum = 0\n",
    "    for i in kwargs.values():\n",
    "        sum+=i\n",
    "        \n",
    "    print(f'Total sum is: {sum}.')\n",
    "    \n",
    "add(a = 5, b = 4, c = 2)"
   ]
  },
  {
   "cell_type": "markdown",
   "id": "7a742a59",
   "metadata": {},
   "source": [
    "### Higher order functions:\n",
    "\n",
    "A higher order function is a function that either takes a function as an argument, or returns a function as a return value."
   ]
  },
  {
   "cell_type": "code",
   "execution_count": 19,
   "id": "0ec66265",
   "metadata": {},
   "outputs": [
    {
     "data": {
      "text/plain": [
       "8"
      ]
     },
     "execution_count": 19,
     "metadata": {},
     "output_type": "execute_result"
    }
   ],
   "source": [
    "def add(a, b):\n",
    "    return a+b\n",
    "\n",
    "def subtract(a, b):\n",
    "    return a - b\n",
    "\n",
    "def calculate(func, x, y): # Function as an argument\n",
    "    return func(x, y)\n",
    "\n",
    "calculate(add, 5, 3)"
   ]
  },
  {
   "cell_type": "code",
   "execution_count": 21,
   "id": "31136b49",
   "metadata": {},
   "outputs": [
    {
     "name": "stdout",
     "output_type": "stream",
     "text": [
      "Hi!\n",
      "Hi!\n",
      "Hi!\n"
     ]
    }
   ],
   "source": [
    "def invoke_thrice(func):\n",
    "    \n",
    "    func()\n",
    "    func()\n",
    "    func()\n",
    "    \n",
    "def simple_function():\n",
    "    print('Hi!')\n",
    "\n",
    "invoke_thrice(simple_function)"
   ]
  },
  {
   "cell_type": "markdown",
   "id": "40afd2d8",
   "metadata": {},
   "source": [
    "### Nested Functions:"
   ]
  }
 ],
 "metadata": {
  "kernelspec": {
   "display_name": "Python 3",
   "language": "python",
   "name": "python3"
  },
  "language_info": {
   "codemirror_mode": {
    "name": "ipython",
    "version": 3
   },
   "file_extension": ".py",
   "mimetype": "text/x-python",
   "name": "python",
   "nbconvert_exporter": "python",
   "pygments_lexer": "ipython3",
   "version": "3.8.8"
  }
 },
 "nbformat": 4,
 "nbformat_minor": 5
}
