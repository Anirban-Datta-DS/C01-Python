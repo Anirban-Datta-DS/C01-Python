{
 "cells": [
  {
   "cell_type": "markdown",
   "id": "6ffe0172-2101-4eee-8f4d-5f2ff1cd6566",
   "metadata": {},
   "source": [
    "## Functions\n",
    "* <b>Function</b> A function is a collection of code intended to perform a specific task.\n",
    "* <b>Method</b>: A method is a function which resides inside a class.\n",
    "* <b>Parameter</b>: A parameter is an expected input for a function.\n",
    "* <b>Argument</b>: An argument is the value provided for the parameter in the function call."
   ]
  },
  {
   "cell_type": "code",
   "execution_count": 3,
   "id": "9510e036-1d49-4ad6-b713-8d8d10cef227",
   "metadata": {},
   "outputs": [
    {
     "name": "stdin",
     "output_type": "stream",
     "text": [
      "What's your name? Anirban\n"
     ]
    },
    {
     "name": "stdout",
     "output_type": "stream",
     "text": [
      "Hello, Anirban!\n"
     ]
    }
   ],
   "source": [
    "def hello_name(name:str) -> str:\n",
    "    \n",
    "    name = input('What\\'s your name?')\n",
    "    print(f'Hello, {name}!')\n",
    "\n",
    "hello_name()"
   ]
  },
  {
   "cell_type": "markdown",
   "id": "3f0d78d2-95ac-41c8-a271-dafe14c394c3",
   "metadata": {},
   "source": []
  }
 ],
 "metadata": {
  "kernelspec": {
   "display_name": "Python 3",
   "language": "python",
   "name": "python3"
  },
  "language_info": {
   "codemirror_mode": {
    "name": "ipython",
    "version": 3
   },
   "file_extension": ".py",
   "mimetype": "text/x-python",
   "name": "python",
   "nbconvert_exporter": "python",
   "pygments_lexer": "ipython3",
   "version": "3.8.8"
  }
 },
 "nbformat": 4,
 "nbformat_minor": 5
}
