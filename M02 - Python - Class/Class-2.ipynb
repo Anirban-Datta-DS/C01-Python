{
 "cells": [
  {
   "cell_type": "markdown",
   "id": "7c96f4ab-7756-47c9-89d6-11f7218de4b0",
   "metadata": {},
   "source": [
    "# Python Classes: Variable attributes and Magic Methods\n",
    "## Creating a Class with variable number of attributes\n",
    "### The explicit method: <code>**kwargs</code>"
   ]
  },
  {
   "cell_type": "code",
   "execution_count": 1,
   "id": "ea9fd6b1-3284-42b5-a90e-b78b93a50482",
   "metadata": {},
   "outputs": [
    {
     "data": {
      "text/plain": [
       "{'name': 'Bimal', 'designation': 'Developer'}"
      ]
     },
     "execution_count": 1,
     "metadata": {},
     "output_type": "execute_result"
    }
   ],
   "source": [
    "class Agent():\n",
    "    \n",
    "    def __init__(self, **kwargs):\n",
    "        \n",
    "        default_attr = dict(name = None, designation = None, department = None, unit = None)        # Define default attributes\n",
    "        additional_attr = ['experience', 'salary', 'skillset']                                      # define (additional) allowed attributes with no default value\n",
    "        \n",
    "        allowed_attr = list(default_attr.keys()) + additional_attr\n",
    "        \n",
    "        if set(kwargs.keys()).issubset(allowed_attr):\n",
    "            self.__dict__.update(kwargs)\n",
    "            \n",
    "        else:\n",
    "            unallowed_args = set(kwargs.keys()).difference(allowed_attr)\n",
    "            raise Exception (f'The following unsupported argument(s) is passed to Agent:\\n{unallowed_args}')\n",
    "            \n",
    "    def __str__(self):\n",
    "        return 'The Agent Class.'\n",
    "    \n",
    "    def __eq__(self, other_agent):\n",
    "        return self.__dict__ == other_agent.__dict__\n",
    "            \n",
    "# agent = Agent(name = 'Anita', designation = 'Associate', department = 'Business Development', unit = 'Digital')\n",
    "\n",
    "agent = Agent(name = 'Bimal', designation = 'Developer')\n",
    "agent.__dict__"
   ]
  },
  {
   "cell_type": "markdown",
   "id": "eddee50c-70d1-40a2-938c-ba07e5086c19",
   "metadata": {},
   "source": [
    "### The Class decorator method"
   ]
  },
  {
   "cell_type": "code",
   "execution_count": 5,
   "id": "4063e43f-f590-4bd8-a870-f129b2e09066",
   "metadata": {},
   "outputs": [
    {
     "name": "stdout",
     "output_type": "stream",
     "text": [
      "32\n",
      "{'English': 80, 'Math': 90, 'Science': 85}\n",
      "\n",
      "Analyst\n",
      "name: Amit\n",
      "designation: Analyst\n",
      "department: Data Analytics\n",
      "{'name': 'Amit', 'designation': 'Analyst', 'department': 'Data Analytics'}\n",
      "False\n"
     ]
    }
   ],
   "source": [
    "import datetime\n",
    "\n",
    "# class decorator definition\n",
    "def classattributes(default_attr, additional_attr):\n",
    "    def class_decorator(cls):\n",
    "        def new_init(self,*args,**kwargs):\n",
    "            allowed_attr = list(default_attr.keys()) + additional_attr\n",
    "            default_attr.update(kwargs)\n",
    "            self.__dict__.update((k,v) for k,v in default_attr.items() if k in allowed_attr)\n",
    "        cls.__init__ = new_init\n",
    "        return cls\n",
    "    return class_decorator\n",
    "\n",
    "# usage:\n",
    "# 1st arg is a dict of attributes with default values\n",
    "# 2nd arg is a list of additional allowed attributes which may be instantiated or not\n",
    "\n",
    "\n",
    "# Using class decorator to initialize the class Student()\n",
    "@classattributes( dict(name=None, standard=True) , ['dob','english','math','science'] )\n",
    "class Student():\n",
    "    \n",
    "    def age(self):                                                                            # add here class body except __init__\n",
    "        today = datetime.date.today()\n",
    "        birthdate = datetime.datetime.strptime(self.dob, '%d/%m/%Y')\n",
    "        age = today.year - birthdate.year\n",
    "\n",
    "        if today < datetime.date(today.year, birthdate.month, birthdate.day):\n",
    "            age -= 1\n",
    "\n",
    "        return age\n",
    "    \n",
    "    def scorecard(self):\n",
    "        \n",
    "        result = {\n",
    "        'English': self.english,\n",
    "        'Math'   : self.math,\n",
    "        'Science': self.science\n",
    "        }\n",
    "        \n",
    "        return result\n",
    "\n",
    "john = {'name':'John Doe', 'standard':8}\n",
    "\n",
    "student = Student(john, dob = '1/1/1990', english = 80, math = 90, science = 85)\n",
    "print(student.age())\n",
    "print(student.scorecard())\n",
    "print()\n",
    "\n",
    "# Using class decorator to initialize the class Employee()\n",
    "@classattributes( dict(name = None, designation = None, department = None, experience = None), ['statistics','visualization', 'python', 'r'] )\n",
    "class Employee():\n",
    "    \n",
    "    def __eq__(self, other_employee):\n",
    "        return self.__dict__ == other_employee.__dict__\n",
    "    \n",
    "    def details(self):\n",
    "        \n",
    "        result = {\n",
    "        'name': self.name,\n",
    "        'designation'   : self.designation,\n",
    "        'department': self.department\n",
    "        }\n",
    "        \n",
    "        for k in result:\n",
    "            print(f'{k}: {result[k]}')\n",
    "        \n",
    "        return result\n",
    "    \n",
    "emp1 = Employee(name = 'Amit', designation = 'Analyst', department = 'Data Analytics', experience = 4)\n",
    "print(emp1.designation)\n",
    "print(emp1.details())\n",
    "\n",
    "emp2 = Employee(name = 'Amita', designation = 'Analyst', department = 'Data Analytics', experience = 4)\n",
    "print(emp1.__eq__(emp2))"
   ]
  },
  {
   "cell_type": "code",
   "execution_count": 3,
   "id": "e328e0da-ca07-4707-876f-57d6e60ba5b3",
   "metadata": {},
   "outputs": [
    {
     "name": "stdout",
     "output_type": "stream",
     "text": [
      "7.7\n",
      "7.7\n",
      "3\n",
      "3\n",
      "True\n",
      "True\n",
      "c\n",
      "c\n"
     ]
    }
   ],
   "source": [
    "print(3.3 + 4.4)\n",
    "print(3.3.__add__(4.4))\n",
    "\n",
    "print(len([1, 2, 3]))\n",
    "print([1, 2, 3].__len__())\n",
    "\n",
    "print(\"h\" in \"hello\")\n",
    "print(\"hello\".__contains__(\"h\"))\n",
    "\n",
    "print([\"a\", \"b\", \"c\"][2])\n",
    "print([\"a\", \"b\", \"c\"].__getitem__(2))"
   ]
  },
  {
   "cell_type": "markdown",
   "id": "800f2912-b3eb-4aef-a6d9-ce488e2d301f",
   "metadata": {},
   "source": [
    "## Creating a Class with named tuples\n",
    "* Named tuple: A named tuple is a special tuple that allows access to its values either by position or keyword / name.\n",
    "* Named tuples are used to create new simple classes which contain attributes, but no instance methods. Typically these simple classes are used to store data."
   ]
  },
  {
   "cell_type": "code",
   "execution_count": 4,
   "id": "d3732e30-3ece-4551-a22f-190c9e96df3f",
   "metadata": {},
   "outputs": [
    {
     "name": "stdout",
     "output_type": "stream",
     "text": [
      "Product(name=None, category=None, price=None)\n",
      "19.99\n",
      "19.99\n"
     ]
    }
   ],
   "source": [
    "import collections\n",
    "\n",
    "fields = ['name', 'category', 'price']\n",
    "Product = collections.namedtuple('Product', fields, defaults = (None,)*len(fields))\n",
    "\n",
    "print(Product())\n",
    "\n",
    "watch = Product(name = 'Watch', category='Sports', price=19.99)\n",
    "print(watch[2])\n",
    "print(watch.price)"
   ]
  },
  {
   "cell_type": "code",
   "execution_count": 5,
   "id": "c294f709-ae6f-47fe-aa75-e27b2698714f",
   "metadata": {},
   "outputs": [
    {
     "data": {
      "text/plain": [
       "Node(val=None, left=None, right=None)"
      ]
     },
     "execution_count": 5,
     "metadata": {},
     "output_type": "execute_result"
    }
   ],
   "source": [
    "from dataclasses import dataclass\n",
    "from typing import Any\n",
    "\n",
    "@dataclass\n",
    "class Node:\n",
    "    val: Any = None \n",
    "    left: 'Node' = None \n",
    "    right: 'Node' = None \n",
    "        \n",
    "Node()"
   ]
  },
  {
   "cell_type": "markdown",
   "id": "7959f14c-9719-4275-9455-e9f677b10d03",
   "metadata": {
    "tags": []
   },
   "source": [
    "# Python Classes: Magic Methods\n",
    "## Magic Methods\n",
    " * Gives the option to customize complexities of classes\n",
    " * Use Magic Methods to make custom classes behave like python's built in classes.\n",
    " * dunder methods works as hooks for our classes.\n",
    " * <b>Hook:</b> A 'hook' is a procedure that intercepts a process at some point in its execution"
   ]
  },
  {
   "cell_type": "markdown",
   "id": "263350c4-b36c-432f-a4c2-bcee741dd61e",
   "metadata": {},
   "source": [
    "### The <code>__str__()</code> and <code>__repr__()</code> methods\n",
    " * <b>Operator Overloading:</b> Custom objects designed to respond to familiar python operations (indexing, slicing, adding, printing, checking for equality)."
   ]
  },
  {
   "cell_type": "code",
   "execution_count": 6,
   "id": "eed71215-2f4a-41a0-9cdf-14987fa84b70",
   "metadata": {},
   "outputs": [
    {
     "name": "stdout",
     "output_type": "stream",
     "text": [
      "Ace of Spades\n",
      "Card(\"Spades\", \"Ace\")\n",
      "\n",
      "Ace of Spades,\n",
      "Card(\"Spades\", \"Ace\")\n",
      "\n"
     ]
    }
   ],
   "source": [
    "class Card():\n",
    "    \n",
    "    def __init__(self, suit, rank):\n",
    "        self.suit = suit\n",
    "        self.rank = rank\n",
    "        \n",
    "    def __str__(self):                                # Magic -> Instance method\n",
    "        return f'{self.rank} of {self.suit}'          # Executes when the object is printed\n",
    "    \n",
    "    def __repr__(self):\n",
    "        return f'Card(\"{self.suit}\", \"{self.rank}\")'  # More technical representation of the object\n",
    "                                                      # How it can be created from scratch.\n",
    "        \n",
    "c = Card('Spades', 'Ace')\n",
    "print(c)\n",
    "print(repr(c))\n",
    "print(f'''\n",
    "{c.__str__()},\n",
    "{c.__repr__()}\n",
    "''')"
   ]
  },
  {
   "cell_type": "markdown",
   "id": "28516ffa-52f5-42e1-a84e-1112e76cf3ad",
   "metadata": {},
   "source": [
    "### The <code>__eq__()</code> magic method"
   ]
  },
  {
   "cell_type": "code",
   "execution_count": 7,
   "id": "0774ef29-a5c7-4857-a0eb-206bfcdb3c0a",
   "metadata": {},
   "outputs": [
    {
     "data": {
      "text/plain": [
       "True"
      ]
     },
     "execution_count": 7,
     "metadata": {},
     "output_type": "execute_result"
    }
   ],
   "source": [
    "# Equality of dictionaries\n",
    "x = dict(a = 1, b = 2, c = 3)\n",
    "y = dict(a = 1, c = 3, b = 2)\n",
    "x == y"
   ]
  },
  {
   "cell_type": "code",
   "execution_count": 8,
   "id": "3e25b05e-47da-498e-b870-b4dd57d70ff3",
   "metadata": {},
   "outputs": [],
   "source": [
    "# !pip install shapely"
   ]
  },
  {
   "cell_type": "markdown",
   "id": "4f4776b2-085b-4a36-aed8-8a7ce887b9a9",
   "metadata": {},
   "source": [
    "### Creating a polar plot"
   ]
  },
  {
   "cell_type": "code",
   "execution_count": 9,
   "id": "9b9f719f-efa2-4ffb-a636-fe6ba80ac752",
   "metadata": {},
   "outputs": [
    {
     "data": {
      "image/png": "[encoded data removed]",
      "text/plain": [
       "<Figure size 432x288 with 1 Axes>"
      ]
     },
     "metadata": {
      "needs_background": "light"
     },
     "output_type": "display_data"
    }
   ],
   "source": [
    "import numpy as np\n",
    "import matplotlib.pyplot as plt\n",
    "\n",
    "\n",
    "r = np.arange(0, 2, 0.01)\n",
    "theta = 2 * np.pi * r\n",
    "\n",
    "fig, ax = plt.subplots(subplot_kw={'projection': 'polar'})\n",
    "ax.plot(theta, r)\n",
    "ax.set_rmax(2)\n",
    "ax.set_rticks([0.5, 1, 1.5, 2])  # Less radial ticks\n",
    "ax.set_rlabel_position(-22.5)  # Move radial labels away from plotted line\n",
    "ax.grid(True)\n",
    "\n",
    "ax.set_title(\"A line plot on a polar axis\", va='bottom')\n",
    "plt.show()"
   ]
  },
  {
   "cell_type": "markdown",
   "id": "7d38284c-8a7a-4db8-a448-3591505352c3",
   "metadata": {},
   "source": [
    "### The Magic Methods for comparison operators: The <code>__gt__()</code> method\n",
    "### Exercise: Comparing areas of regular polygons"
   ]
  },
  {
   "cell_type": "code",
   "execution_count": 10,
   "id": "dcdb27e1-e44b-481c-a160-71765203cf08",
   "metadata": {},
   "outputs": [
    {
     "data": {
      "image/png": "[encoded data removed]",
      "text/plain": [
       "<Figure size 432x432 with 1 Axes>"
      ]
     },
     "metadata": {
      "needs_background": "light"
     },
     "output_type": "display_data"
    },
    {
     "name": "stdout",
     "output_type": "stream",
     "text": [
      "Area of hexagon: 2.5981\n",
      "\n",
      "Area of pentagon: 2.3776\n",
      "True\n",
      "False\n"
     ]
    }
   ],
   "source": [
    "import math\n",
    "from shapely.geometry import Polygon\n",
    "import matplotlib.pyplot as plt\n",
    "\n",
    "class RegularPolygon():\n",
    "    \n",
    "    '''\n",
    "    A class that generates regular polygons of circumradius 1 unit.\n",
    "    Enter number of sides to generate the polygon.\n",
    "    \n",
    "    Attributes\n",
    "    ----------------\n",
    "    n: int\n",
    "            Defines the number of sides, mandatory, default = 6\n",
    "    '''\n",
    "    def __init__(self, n = 6):\n",
    "        self.n = n\n",
    "        \n",
    "    @property\n",
    "    def coordinates(self):\n",
    "        '''\n",
    "        Generate the list of coordinates from the number of sides. returns a list of coordinates (tuples).\n",
    "        '''\n",
    "        return [(math.cos(2*math.pi *i/self.n), math.sin(2*math.pi *i/self.n)) for i in range(self.n)]\n",
    "    \n",
    "    @property\n",
    "    def side_length(self):\n",
    "        '''\n",
    "        Calcualates side length by applying Euclidean distance formula between 2 adjacent coordinates.\n",
    "        '''\n",
    "        return math.sqrt((self.coordinates[0][0] - self.coordinates[1][0])**2 + (self.coordinates[0][1] - self.coordinates[1][1])**2)\n",
    "    \n",
    "    @property\n",
    "    def area(self):\n",
    "        '''\n",
    "        Calculates area of polygon from number of sides.\n",
    "        '''\n",
    "        polygon_area = round(((self.side_length)**2)*(self.n)/(4*math.tan(math.pi /self.n)), 4)\n",
    "        return polygon_area\n",
    "    \n",
    "    def draw(self):\n",
    "        '''\n",
    "        Draws the polygon and its circum-circle.\n",
    "        '''\n",
    "        \n",
    "        polygon = Polygon(self.coordinates)\n",
    "        x,y = polygon.exterior.xy\n",
    "        \n",
    "        fig, ax = plt.subplots(figsize = (6, 6))\n",
    "#         ax.set_aspect( 1 )\n",
    "        \n",
    "        plt.plot(x,y)\n",
    "        plt.axvline(x=0, c=\"black\", ls = '--', label=\"x=0\")\n",
    "        plt.axhline(y=0, c=\"black\", ls = '--', label=\"y=0\")\n",
    "        \n",
    "        Drawing_uncolored_circle = plt.Circle((0, 0), 1, fill = False, color=\"green\", ls='--')\n",
    "        plt.plot([0, self.coordinates[1][0]], [0, self.coordinates[1][1]], color='r', linestyle='-', linewidth=2)\n",
    "        plt.plot(0,0, 'ro')\n",
    "        plt.plot(self.coordinates[1][0],self.coordinates[1][1], 'ro')\n",
    "        ax.add_artist(Drawing_uncolored_circle)\n",
    "        ax.set_xlim([-1.2, 1.2])\n",
    "        ax.set_ylim([-1.2, 1.2])\n",
    "        \n",
    "        plt.show()\n",
    "        \n",
    "    def __gt__(self, other):\n",
    "        return self.area > other.area\n",
    "    \n",
    "    def __lt__(self, other):\n",
    "        return self.area < other.area\n",
    "        \n",
    "hexagon = RegularPolygon(6)\n",
    "hexagon.draw()\n",
    "print(f'Area of hexagon: {hexagon.area}', end ='\\n\\n')\n",
    "\n",
    "pentagon = RegularPolygon(5)\n",
    "octagon = RegularPolygon(8)\n",
    "print(f'Area of pentagon: {pentagon.area}')\n",
    "print(hexagon.__gt__(pentagon))\n",
    "print(octagon.__lt__(pentagon))"
   ]
  },
  {
   "cell_type": "markdown",
   "id": "18b44509-3746-4cf3-abae-6b1405629092",
   "metadata": {},
   "source": [
    "### Docstrings\n",
    "* <b>Docstrings:</b> A regular python string that creates techncial documentation for a piece of program (function or Class or module)."
   ]
  },
  {
   "cell_type": "code",
   "execution_count": 11,
   "id": "8e5e9b5e-a8ce-491b-8ae7-319f0253ec3d",
   "metadata": {},
   "outputs": [
    {
     "name": "stdout",
     "output_type": "stream",
     "text": [
      "Help on class RegularPolygon in module polygon:\n",
      "\n",
      "class RegularPolygon(builtins.object)\n",
      " |  RegularPolygon(n=6)\n",
      " |  \n",
      " |  A class that generates regular polygons of circumradius 1 unit.\n",
      " |  Enter number of sides to generate the polygon.\n",
      " |  \n",
      " |  Attributes\n",
      " |  ----------------\n",
      " |  n: int\n",
      " |          Defines the number of sides, mandatory, default = 6\n",
      " |  \n",
      " |  Methods defined here:\n",
      " |  \n",
      " |  __gt__(self, other)\n",
      " |      Return self>value.\n",
      " |  \n",
      " |  __init__(self, n=6)\n",
      " |      Initialize self.  See help(type(self)) for accurate signature.\n",
      " |  \n",
      " |  __lt__(self, other)\n",
      " |      Return self<value.\n",
      " |  \n",
      " |  draw(self)\n",
      " |      Draws the polygon and its circum-circle.\n",
      " |  \n",
      " |  ----------------------------------------------------------------------\n",
      " |  Readonly properties defined here:\n",
      " |  \n",
      " |  area\n",
      " |      Calculates area of polygon from number of sides.\n",
      " |  \n",
      " |  coordinates\n",
      " |      Generate the list of coordinates from the number of sides. returns a list of coordinates (tuples).\n",
      " |  \n",
      " |  side_length\n",
      " |      Calcualates side length by applying Euclidean distance formula between 2 adjacent coordinates.\n",
      " |  \n",
      " |  ----------------------------------------------------------------------\n",
      " |  Data descriptors defined here:\n",
      " |  \n",
      " |  __dict__\n",
      " |      dictionary for instance variables (if defined)\n",
      " |  \n",
      " |  __weakref__\n",
      " |      list of weak references to the object (if defined)\n",
      "\n"
     ]
    }
   ],
   "source": [
    "import sys  \n",
    "sys.path.append('C:/Code/Concepts/C01 - Python/M02 - Python - Class')\n",
    "import polygon\n",
    "help(polygon.RegularPolygon)"
   ]
  },
  {
   "cell_type": "markdown",
   "id": "d42038b8-9c14-4d12-b048-d7c04335ef62",
   "metadata": {},
   "source": [
    "### The <code>__bool__()</code> method"
   ]
  },
  {
   "cell_type": "code",
   "execution_count": 13,
   "id": "19da5902-ab95-4646-ae95-b0856c222376",
   "metadata": {},
   "outputs": [
    {
     "name": "stdout",
     "output_type": "stream",
     "text": [
      "Amol is inactive.\n"
     ]
    }
   ],
   "source": [
    "class Employee():\n",
    "    \n",
    "    def __init__(self, name, status = 1):\n",
    "        self.name = name\n",
    "        self.status = status\n",
    "        \n",
    "    def __bool__(self):\n",
    "        return self.status == 1\n",
    "    \n",
    "emp = Employee('Amol', status = 0)\n",
    "\n",
    "if emp:\n",
    "    print(f'{emp.name} is active.')\n",
    "else:    \n",
    "    print(f'{emp.name} is inactive.')"
   ]
  },
  {
   "cell_type": "markdown",
   "id": "223c448b-cf29-4ac9-9094-dce9ced76e84",
   "metadata": {},
   "source": [
    "### The <code>__len__()</code> method"
   ]
  },
  {
   "cell_type": "code",
   "execution_count": 14,
   "id": "f28dc6dd-4222-4c2b-9f55-b8f70aaa84a4",
   "metadata": {},
   "outputs": [
    {
     "data": {
      "text/plain": [
       "2"
      ]
     },
     "execution_count": 14,
     "metadata": {},
     "output_type": "execute_result"
    }
   ],
   "source": [
    "import collections\n",
    "\n",
    "Book = collections.namedtuple('Book', ['title', 'author'])\n",
    "great_expectations = Book('Great Expectations', 'Charles Dickens')\n",
    "pride_and_prejudice = Book('Pride and Prejudice', 'Jane Austin')\n",
    "\n",
    "class Library():\n",
    "    \n",
    "    def __init__(self, *books):\n",
    "        self.books = books\n",
    "        \n",
    "    def __len__(self):\n",
    "        return len(self.books)\n",
    "    \n",
    "library1 = Library(great_expectations)\n",
    "library2 = Library(great_expectations, pride_and_prejudice)\n",
    "len(library2.books)\n",
    "len(library2)"
   ]
  },
  {
   "cell_type": "markdown",
   "id": "2ea78f93-d000-452e-aa32-f82bcb39d093",
   "metadata": {},
   "source": [
    "### Indexing: The <code>__getitem__()</code> and <code>__setitem__()</code> methods"
   ]
  },
  {
   "cell_type": "code",
   "execution_count": 15,
   "id": "199895ad-c109-4e13-b164-ce9cf3314aac",
   "metadata": {},
   "outputs": [
    {
     "name": "stdout",
     "output_type": "stream",
     "text": [
      "Act1\n",
      "Act2\n",
      "\n",
      "Act1\n",
      "Act3\n"
     ]
    }
   ],
   "source": [
    "class Activity():\n",
    "    \n",
    "    def __init__(self, name, duration):\n",
    "        self.name = name\n",
    "        self.duration = duration\n",
    "        \n",
    "class ActivityList():\n",
    "    \n",
    "    def __init__(self):\n",
    "        self.activity_list = []\n",
    "        \n",
    "    def add(self, activity_name):\n",
    "        self.activity_list.append(activity_name)\n",
    "        \n",
    "    def __getitem__(self, index):\n",
    "        return self.activity_list[index]\n",
    "    \n",
    "    def __setitem__(self, index, value):\n",
    "        self.activity_list[index] = value\n",
    "\n",
    "    \n",
    "act1 = Activity('Act1', 15)\n",
    "act2 = Activity('Act2', 15)\n",
    "act3 = Activity('Act3', 15)\n",
    "act4 = Activity('Act4', 15)\n",
    "\n",
    "activity_list = ActivityList()\n",
    "activity_list.add(act1.name)\n",
    "activity_list.add(act2.name)\n",
    "\n",
    "for a in activity_list:\n",
    "    print(a)\n",
    "\n",
    "print()\n",
    "activity_list[1] = act3.name\n",
    "\n",
    "for a in activity_list:\n",
    "    print(a)"
   ]
  },
  {
   "cell_type": "markdown",
   "id": "a3c2b7ef-7bf4-4fc4-96af-bee19863a094",
   "metadata": {},
   "source": [
    "### The <code>__del__()</code> method"
   ]
  },
  {
   "cell_type": "code",
   "execution_count": 16,
   "id": "a97db262-5508-4f7b-91f3-fe1d7b5f660c",
   "metadata": {},
   "outputs": [
    {
     "name": "stdout",
     "output_type": "stream",
     "text": [
      "Object deleted.\n",
      "Program done.\n"
     ]
    }
   ],
   "source": [
    "import time\n",
    "\n",
    "class Garbage():\n",
    "    def __del__(self):\n",
    "        print('Object deleted.')\n",
    "        \n",
    "g = Garbage()\n",
    "\n",
    "g = [1, 2, 3]\n",
    "\n",
    "time.sleep(5)\n",
    "\n",
    "print('Program done.')"
   ]
  }
 ],
 "metadata": {
  "kernelspec": {
   "display_name": "Python 3",
   "language": "python",
   "name": "python3"
  },
  "language_info": {
   "codemirror_mode": {
    "name": "ipython",
    "version": 3
   },
   "file_extension": ".py",
   "mimetype": "text/x-python",
   "name": "python",
   "nbconvert_exporter": "python",
   "pygments_lexer": "ipython3",
   "version": "3.8.8"
  }
 },
 "nbformat": 4,
 "nbformat_minor": 5
}
