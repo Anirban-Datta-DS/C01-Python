{
 "cells": [
  {
   "cell_type": "markdown",
   "id": "7959f14c-9719-4275-9455-e9f677b10d03",
   "metadata": {},
   "source": [
    "# Python Classes: Magic Methods\n",
    "## Magic Methods\n",
    " * Gives the option to customize complexities of classes\n",
    " * Use Magic Methods to make custom classes behave like python's built in classes.\n",
    " * dunder methods works as hooks for our classes.\n",
    " * <b>Hook:</b> A 'hook' is a procedure that intercepts a process at some point in its execution"
   ]
  },
  {
   "cell_type": "code",
   "execution_count": 1,
   "id": "e328e0da-ca07-4707-876f-57d6e60ba5b3",
   "metadata": {},
   "outputs": [
    {
     "name": "stdout",
     "output_type": "stream",
     "text": [
      "7.7\n",
      "7.7\n",
      "3\n",
      "3\n",
      "True\n",
      "True\n",
      "c\n",
      "c\n"
     ]
    }
   ],
   "source": [
    "print(3.3 + 4.4)\n",
    "print(3.3.__add__(4.4))\n",
    "\n",
    "print(len([1, 2, 3]))\n",
    "print([1, 2, 3].__len__())\n",
    "\n",
    "print(\"h\" in \"hello\")\n",
    "print(\"hello\".__contains__(\"h\"))\n",
    "\n",
    "print([\"a\", \"b\", \"c\"][2])\n",
    "print([\"a\", \"b\", \"c\"].__getitem__(2))"
   ]
  },
  {
   "cell_type": "markdown",
   "id": "263350c4-b36c-432f-a4c2-bcee741dd61e",
   "metadata": {},
   "source": [
    "### The <code>__str__()</code> and <code>__repr__()</code> methods\n",
    " * <b>Operator Overloading:</b> Custom objects designed to respond to familiar python operations (indexing, slicing, adding, printing, checking for equality)."
   ]
  },
  {
   "cell_type": "code",
   "execution_count": 2,
   "id": "eed71215-2f4a-41a0-9cdf-14987fa84b70",
   "metadata": {},
   "outputs": [
    {
     "name": "stdout",
     "output_type": "stream",
     "text": [
      "Ace of Spades\n",
      "Card(\"Spades\", \"Ace\")\n",
      "\n",
      "Ace of Spades,\n",
      "Card(\"Spades\", \"Ace\")\n",
      "\n"
     ]
    }
   ],
   "source": [
    "class Card():\n",
    "    \n",
    "    def __init__(self, suit, rank):\n",
    "        self.suit = suit\n",
    "        self.rank = rank\n",
    "        \n",
    "    def __str__(self):                                # Magic -> Instance method\n",
    "        return f'{self.rank} of {self.suit}'          # Executes when the object is printed\n",
    "    \n",
    "    def __repr__(self):\n",
    "        return f'Card(\"{self.suit}\", \"{self.rank}\")'  # More technical representation of the object\n",
    "                                                      # How it can be created from scratch.\n",
    "        \n",
    "c = Card('Spades', 'Ace')\n",
    "print(c)\n",
    "print(repr(c))\n",
    "print(f'''\n",
    "{c.__str__()},\n",
    "{c.__repr__()}\n",
    "''')"
   ]
  },
  {
   "cell_type": "markdown",
   "id": "28516ffa-52f5-42e1-a84e-1112e76cf3ad",
   "metadata": {},
   "source": [
    "### The <code>__eq__()</code> magic method"
   ]
  },
  {
   "cell_type": "code",
   "execution_count": 3,
   "id": "0774ef29-a5c7-4857-a0eb-206bfcdb3c0a",
   "metadata": {},
   "outputs": [
    {
     "data": {
      "text/plain": [
       "True"
      ]
     },
     "execution_count": 3,
     "metadata": {},
     "output_type": "execute_result"
    }
   ],
   "source": [
    "# Equality of dictionaries\n",
    "x = dict(a = 1, b = 2, c = 3)\n",
    "y = dict(a = 1, c = 3, b = 2)\n",
    "x == y"
   ]
  },
  {
   "cell_type": "markdown",
   "id": "7c96f4ab-7756-47c9-89d6-11f7218de4b0",
   "metadata": {},
   "source": [
    "## Creating a Class with variable number of attributes\n",
    "### The explicit method: <code>**kwargs</code>"
   ]
  },
  {
   "cell_type": "code",
   "execution_count": 4,
   "id": "ea9fd6b1-3284-42b5-a90e-b78b93a50482",
   "metadata": {},
   "outputs": [
    {
     "data": {
      "text/plain": [
       "{'name': 'Bimal', 'designation': 'Developer'}"
      ]
     },
     "execution_count": 4,
     "metadata": {},
     "output_type": "execute_result"
    }
   ],
   "source": [
    "class Agent():\n",
    "    \n",
    "    def __init__(self, **kwargs):\n",
    "        \n",
    "        default_attr = dict(name = None, designation = None, department = None, unit = None)        # Define default attributes\n",
    "        additional_attr = ['experience', 'salary', 'skillset']                                      # define (additional) allowed attributes with no default value\n",
    "        \n",
    "        allowed_attr = list(default_attr.keys()) + additional_attr\n",
    "        \n",
    "        if set(kwargs.keys()).issubset(allowed_attr):\n",
    "            self.__dict__.update(kwargs)\n",
    "            \n",
    "        else:\n",
    "            unallowed_args = set(kwargs.keys()).difference(allowed_attr)\n",
    "            raise Exception (f'The following unsupported argument(s) is passed to Agent:\\n{unallowed_args}')\n",
    "            \n",
    "    def __str__(self):\n",
    "        return 'The Agent Class.'\n",
    "    \n",
    "    def __eq__(self, other_agent):\n",
    "        return self.__dict__ == other_agent.__dict__\n",
    "            \n",
    "# agent = Agent(name = 'Anita', designation = 'Associate', department = 'Business Development', unit = 'Digital')\n",
    "\n",
    "agent = Agent(name = 'Bimal', designation = 'Developer')\n",
    "agent.__dict__"
   ]
  },
  {
   "cell_type": "markdown",
   "id": "eddee50c-70d1-40a2-938c-ba07e5086c19",
   "metadata": {},
   "source": [
    "### The Class decorator method"
   ]
  },
  {
   "cell_type": "code",
   "execution_count": 5,
   "id": "4063e43f-f590-4bd8-a870-f129b2e09066",
   "metadata": {},
   "outputs": [
    {
     "name": "stdout",
     "output_type": "stream",
     "text": [
      "32\n",
      "{'English': 80, 'Math': 90, 'Science': 85}\n",
      "\n",
      "Analyst\n",
      "{'name': 'Amit', 'designation': 'Analyst', 'department': 'Data Analytics'}\n",
      "False\n"
     ]
    }
   ],
   "source": [
    "import datetime\n",
    "\n",
    "# class decorator definition\n",
    "def classattributes(default_attr, additional_attr):\n",
    "    def class_decorator(cls):\n",
    "        def new_init(self,*args,**kwargs):\n",
    "            allowed_attr = list(default_attr.keys()) + additional_attr\n",
    "            default_attr.update(kwargs)\n",
    "            self.__dict__.update((k,v) for k,v in default_attr.items() if k in allowed_attr)\n",
    "        cls.__init__ = new_init\n",
    "        return cls\n",
    "    return class_decorator\n",
    "\n",
    "# usage:\n",
    "# 1st arg is a dict of attributes with default values\n",
    "# 2nd arg is a list of additional allowed attributes which may be instantiated or not\n",
    "\n",
    "\n",
    "# Using class decorator to initialize the class Student()\n",
    "@classattributes( dict(name=None, standard=True) , ['dob','english','math','science'] )\n",
    "class Student():\n",
    "    \n",
    "    def age(self):                                                                            # add here class body except __init__\n",
    "        today = datetime.date.today()\n",
    "        birthdate = datetime.datetime.strptime(self.dob, '%d/%m/%Y')\n",
    "        age = today.year - birthdate.year\n",
    "\n",
    "        if today < datetime.date(today.year, birthdate.month, birthdate.day):\n",
    "            age -= 1\n",
    "\n",
    "        return age\n",
    "    \n",
    "    def scorecard(self):\n",
    "        \n",
    "        result = {\n",
    "        'English': self.english,\n",
    "        'Math'   : self.math,\n",
    "        'Science': self.science\n",
    "        }\n",
    "        \n",
    "        return result\n",
    "\n",
    "john = {'name':'John Doe', 'standard':8}\n",
    "\n",
    "student = Student(john, dob = '1/1/1990', english = 80, math = 90, science = 85)\n",
    "print(student.age())\n",
    "print(student.scorecard())\n",
    "print()\n",
    "\n",
    "# Using class decorator to initialize the class Employee()\n",
    "@classattributes( dict(name = None, designation = None, department = None, experience = None), ['statistics','visualization', 'python', 'r'] )\n",
    "class Employee():\n",
    "    \n",
    "    def __eq__(self, other_employee):\n",
    "        return self.__dict__ == other_employee.__dict__\n",
    "    \n",
    "    def details(self):\n",
    "        \n",
    "        result = {\n",
    "        'name': self.name,\n",
    "        'designation'   : self.designation,\n",
    "        'department': self.department\n",
    "        }\n",
    "        \n",
    "        return result\n",
    "    \n",
    "emp1 = Employee(name = 'Amit', designation = 'Analyst', department = 'Data Analytics', experience = 4)\n",
    "print(emp1.designation)\n",
    "print(emp1.details())\n",
    "\n",
    "emp2 = Employee(name = 'Amita', designation = 'Analyst', department = 'Data Analytics', experience = 4)\n",
    "print(emp1.__eq__(emp2))"
   ]
  }
 ],
 "metadata": {
  "kernelspec": {
   "display_name": "Python 3",
   "language": "python",
   "name": "python3"
  },
  "language_info": {
   "codemirror_mode": {
    "name": "ipython",
    "version": 3
   },
   "file_extension": ".py",
   "mimetype": "text/x-python",
   "name": "python",
   "nbconvert_exporter": "python",
   "pygments_lexer": "ipython3",
   "version": "3.8.8"
  }
 },
 "nbformat": 4,
 "nbformat_minor": 5
}
