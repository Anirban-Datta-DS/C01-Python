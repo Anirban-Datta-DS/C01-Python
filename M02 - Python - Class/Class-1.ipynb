{
 "cells": [
  {
   "cell_type": "markdown",
   "id": "0c5a8557-6d8e-432e-9404-3d88e1b056a5",
   "metadata": {},
   "source": [
    "## Python OOP\n",
    "### Introduction to Classes\n",
    " * <b>Class:</b> A class is a blueprint for creating objects which contains data (attributes) and behaviour (methods) that define the objects. Classes are used to describe real world things and concepts in programming.\n",
    " * <b>Attributes:</b> Attributes are the data (information) that define the objects of a class. Variables that belong to a Class - Class attributes, Instance attributes.\n",
    " * <b>Methods:</b> Methods are the actions (functions) available to the objects that define the objects of a class. Methods can interact with and modify an object's attributes, thus altering it's state.\n",
    " * <b>Instance:</b> Instance is an object created from a class. Objects created from the same class are independent of each other."
   ]
  },
  {
   "cell_type": "code",
   "execution_count": 1,
   "id": "d1d9c728-b052-4c0f-a214-35ee8fc6ee83",
   "metadata": {},
   "outputs": [
    {
     "name": "stdout",
     "output_type": "stream",
     "text": [
      "<__main__.Person object at 0x000001631B7E0B20>\n"
     ]
    }
   ],
   "source": [
    "class Person():\n",
    "    pass\n",
    "\n",
    "class DatabaseConnection():\n",
    "    pass\n",
    "\n",
    "ram = Person()\n",
    "shyam = Person()\n",
    "\n",
    "print(ram)"
   ]
  },
  {
   "cell_type": "markdown",
   "id": "b5fd6a33-7c1b-4e24-9a77-ed54207eb3ae",
   "metadata": {},
   "source": [
    "#### The <code>__init__()</code> Method:\n",
    " * Declared in class definition\n",
    " * Used to set up instantiation logic for objects\n",
    " * Will run automatically whenever an object is instantiated from a Class.\n",
    " * Purpose is to set the initial state for each object.\n",
    " * Has to be the very first method defined in the Class definition.\n",
    " * The <code>__init__()</code> method must return None, and has to include atleast 1 parameter. That parameter represents the object that is in the process of being created. Typically the parameter is taken as <code>self</code>, but it is not technically required (convention)."
   ]
  },
  {
   "cell_type": "code",
   "execution_count": 2,
   "id": "a287797a-a44f-4406-bd57-44fe803b7b39",
   "metadata": {},
   "outputs": [
    {
     "name": "stdout",
     "output_type": "stream",
     "text": [
      "A new Employee object is created! The employee is <__main__.Employee object at 0x000001631B81A280>.\n",
      "<__main__.Employee object at 0x000001631B81A280>\n",
      "Ram\n"
     ]
    }
   ],
   "source": [
    "class Employee():\n",
    "    def __init__(self):\n",
    "        print(f'A new Employee object is created! The employee is {self}.') # Run automatically when object is insantiated -> Magic Method.\n",
    "        \n",
    "ram = Employee() # 'self' is passed automatically.\n",
    "print(ram)\n",
    "\n",
    "ram.name = 'Ram'\n",
    "ram.age = 29\n",
    "ram.experience = 2\n",
    "print(ram.name)"
   ]
  },
  {
   "cell_type": "code",
   "execution_count": 3,
   "id": "5b7a5804-18c3-4759-98ad-f561a610768f",
   "metadata": {},
   "outputs": [
    {
     "name": "stdout",
     "output_type": "stream",
     "text": [
      "A new Employee object is created! The employee is <__main__.Employee object at 0x000001631B81A310>.\n",
      "2\n"
     ]
    }
   ],
   "source": [
    "class Employee():\n",
    "    def __init__(self):\n",
    "        print(f'A new Employee object is created! The employee is {self}.') # Run automatically when object is insantiated -> Magic Method.\n",
    "        \n",
    "ram = Employee() # 'self' is passed automatically.\n",
    "\n",
    "# Adding attribules to object -> Should never be done this way\n",
    "# Allowed in python but not valid in a lot of programming languages\n",
    "ram.name = 'Ram'\n",
    "ram.age = 29\n",
    "ram.experience = 2\n",
    "print(ram.experience)"
   ]
  },
  {
   "cell_type": "code",
   "execution_count": 4,
   "id": "1c8ba26a-38e8-4096-9618-d577c68e0b85",
   "metadata": {},
   "outputs": [
    {
     "data": {
      "text/plain": [
       "32"
      ]
     },
     "execution_count": 4,
     "metadata": {},
     "output_type": "execute_result"
    }
   ],
   "source": [
    "class Employee():\n",
    "    def __init__(self, name, age, experience = 0):\n",
    "        self.name = name\n",
    "        self.age = age\n",
    "        self.experience = experience\n",
    "        \n",
    "emp = Employee('Amol', 32, 8)\n",
    "emp.age"
   ]
  },
  {
   "cell_type": "markdown",
   "id": "0e7acadc-0de4-4dba-8d64-bce71899aa88",
   "metadata": {},
   "source": [
    "### Instance Methods\n",
    " * <b>Instance methods:</b> They are methods that belong to an object.\n",
    " * Must take argument - 'self'."
   ]
  },
  {
   "cell_type": "code",
   "execution_count": 5,
   "id": "c9b7bcab-898a-48da-8178-9db55959c333",
   "metadata": {},
   "outputs": [
    {
     "name": "stdout",
     "output_type": "stream",
     "text": [
      "amol.das@company.com\n",
      "Junior\n"
     ]
    }
   ],
   "source": [
    "class Employee():\n",
    "    \n",
    "    def __init__(self, first_name, last_name, dob, experience = 0):\n",
    "        self.first_name = first_name  # -> Instance attributes\n",
    "        self.last_name = last_name\n",
    "        self.dob = dob\n",
    "        self.experience = experience\n",
    "        self.email = f'{self.first_name}.{self.last_name}@company.com'.lower()\n",
    "        \n",
    "    def category(self):  # -> Instance Method\n",
    "        \n",
    "        category = 'Senior' if self.experience > 3 else 'Junior'\n",
    "        return category\n",
    "        \n",
    "        \n",
    "emp1 = Employee('Amol', 'Das', '2/1/1990', 2)\n",
    "\n",
    "print(emp1.email)\n",
    "print(emp1.category())"
   ]
  },
  {
   "cell_type": "code",
   "execution_count": 6,
   "id": "79a4c634-4faa-4b5d-839f-3d6900acdb1e",
   "metadata": {},
   "outputs": [
    {
     "name": "stdout",
     "output_type": "stream",
     "text": [
      "Datta\n"
     ]
    },
    {
     "data": {
      "text/plain": [
       "'amol.das@company.com'"
      ]
     },
     "execution_count": 6,
     "metadata": {},
     "output_type": "execute_result"
    }
   ],
   "source": [
    "import datetime\n",
    "\n",
    "class Employee():\n",
    "    \n",
    "    def __init__(self, first_name, last_name, dob, experience = 0):\n",
    "        self.first_name = first_name  # Instance methods\n",
    "        self.last_name = last_name\n",
    "        self.dob = dob\n",
    "        self.experience = experience\n",
    "        self.email = f'{self.first_name}.{self.last_name}@company.com'.lower()\n",
    "    \n",
    "    def age(self):\n",
    "        \n",
    "        today = datetime.date.today()\n",
    "        birthdate = datetime.datetime.strptime(self.dob, '%d/%m/%Y')\n",
    "        age = today.year - birthdate.year\n",
    "\n",
    "        if today < datetime.date(today.year, birthdate.month, birthdate.day):\n",
    "            age -= 1\n",
    "\n",
    "        return age\n",
    "        \n",
    "emp1 = Employee('Amol', 'Das', '2/1/1990', 2)\n",
    "\n",
    "emp1.last_name = 'Datta'\n",
    "print(emp1.last_name)\n",
    "emp1.email # The output is not expected"
   ]
  },
  {
   "cell_type": "code",
   "execution_count": 7,
   "id": "2e88ee99-becb-4007-9499-cc025d95a656",
   "metadata": {},
   "outputs": [
    {
     "data": {
      "text/plain": [
       "'chinmoy.pal@company.com'"
      ]
     },
     "execution_count": 7,
     "metadata": {},
     "output_type": "execute_result"
    }
   ],
   "source": [
    "import datetime\n",
    "\n",
    "class Employee():\n",
    "    \n",
    "    def __init__(self, first_name, last_name, dob, experience = 0):\n",
    "        self.first_name = first_name  # Instance methods\n",
    "        self.last_name = last_name\n",
    "        self.dob = dob\n",
    "        self.experience = experience\n",
    "        self.email = f'{self.first_name}.{self.last_name}@company.com'.lower()\n",
    "    \n",
    "    def age(self):\n",
    "        \n",
    "        today = datetime.date.today()\n",
    "        birthdate = datetime.datetime.strptime(self.dob, '%d/%m/%Y')\n",
    "        age = today.year - birthdate.year\n",
    "\n",
    "        if today < datetime.date(today.year, birthdate.month, birthdate.day):\n",
    "            age -= 1\n",
    "\n",
    "        return age\n",
    "    \n",
    "    def change_name(self, new_name: str)->str:\n",
    "        self.first_name = new_name\n",
    "        self.email = f'{self.first_name}.{self.last_name}@company.com'.lower()\n",
    "        \n",
    "        \n",
    "emp2 = Employee('Bimal', 'Pal', '2/1/1980', 8)\n",
    "emp2.change_name('Chinmoy')\n",
    "emp2.email   # Expected behaviour."
   ]
  },
  {
   "cell_type": "markdown",
   "id": "69e2a100-8d77-4855-906b-45d3fae1e3f9",
   "metadata": {},
   "source": [
    "### Encapsulation\n",
    " * Data should be bundled together with methods that work on that data.\n",
    " * Object attributes should only be modified by instance methods, and not by setting the value from outside.\n",
    " * Protected variable: <code>_variable</code>\n",
    " * Python name mangling: <code>__variable</code>"
   ]
  },
  {
   "cell_type": "code",
   "execution_count": 8,
   "id": "f9b80eb5-d94a-4a10-95ab-a1f40957315f",
   "metadata": {},
   "outputs": [],
   "source": [
    "class Car():\n",
    "    \n",
    "    def __init__(self, brand, model, year, category):\n",
    "        self.brand = brand\n",
    "        self.model = model\n",
    "        self.year = year\n",
    "        self.category = category"
   ]
  },
  {
   "cell_type": "markdown",
   "id": "9fa61644-6d28-4cbc-a1e1-4dbf441bd42a",
   "metadata": {},
   "source": [
    "### Getter and Setter methods\n",
    " * Instance methods that get / set attribute values on an object.\n",
    " * A <b>Property</b> is a mix of an attribute and an instance method."
   ]
  },
  {
   "cell_type": "code",
   "execution_count": 14,
   "id": "65911fdf-207e-442f-a75a-a4dae4622284",
   "metadata": {},
   "outputs": [
    {
     "name": "stdout",
     "output_type": "stream",
     "text": [
      "5.0\n",
      "6.0\n",
      "6.0\n"
     ]
    }
   ],
   "source": [
    "class Height():\n",
    "    def __init__(self, feet):\n",
    "        self._inches = feet * 12\n",
    "\n",
    "    def _get_feet(self):\n",
    "        return self._inches / 12\n",
    "\n",
    "    def _set_feet(self, feet):\n",
    "        if feet >= 0:\n",
    "             self._inches = feet * 12\n",
    "\n",
    "    feet = property(_get_feet, _set_feet)\n",
    "\n",
    "h = Height(5)\n",
    "print(h.feet)\n",
    "\n",
    "h.feet = 6\n",
    "print(h.feet)\n",
    "\n",
    "h.feet = -10\n",
    "print(h.feet) "
   ]
  }
 ],
 "metadata": {
  "kernelspec": {
   "display_name": "Python 3",
   "language": "python",
   "name": "python3"
  },
  "language_info": {
   "codemirror_mode": {
    "name": "ipython",
    "version": 3
   },
   "file_extension": ".py",
   "mimetype": "text/x-python",
   "name": "python",
   "nbconvert_exporter": "python",
   "pygments_lexer": "ipython3",
   "version": "3.8.8"
  }
 },
 "nbformat": 4,
 "nbformat_minor": 5
}
