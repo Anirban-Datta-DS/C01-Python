{
 "cells": [
  {
   "cell_type": "markdown",
   "id": "0c5a8557-6d8e-432e-9404-3d88e1b056a5",
   "metadata": {},
   "source": [
    "# Python Classes: Fundamentals\n",
    "### Introduction to Classes\n",
    " * <b>Class:</b> A class is a blueprint for creating objects which contains data (attributes) and behaviour (methods) that define the objects. Classes are used to describe real world things and concepts in programming.\n",
    " * <b>Attributes:</b> Attributes are the data (information) that define the objects of a class. Variables that belong to a Class - Class attributes, Instance attributes.\n",
    " * <b>Methods:</b> Methods are the actions (functions) available to the objects that define the objects of a class. Methods can interact with and modify an object's attributes, thus altering it's state.\n",
    " * <b>Instance:</b> Instance is an object created from a class. Objects created from the same class are independent of each other."
   ]
  },
  {
   "cell_type": "code",
   "execution_count": 1,
   "id": "d1d9c728-b052-4c0f-a214-35ee8fc6ee83",
   "metadata": {},
   "outputs": [
    {
     "name": "stdout",
     "output_type": "stream",
     "text": [
      "<__main__.Person object at 0x00000180727019A0>\n"
     ]
    }
   ],
   "source": [
    "class Person():\n",
    "    pass\n",
    "\n",
    "class DatabaseConnection():\n",
    "    pass\n",
    "\n",
    "ram = Person()\n",
    "shyam = Person()\n",
    "\n",
    "print(ram)"
   ]
  },
  {
   "cell_type": "markdown",
   "id": "b5fd6a33-7c1b-4e24-9a77-ed54207eb3ae",
   "metadata": {},
   "source": [
    "#### The <code>__init__()</code> Method:\n",
    " * Declared in class definition\n",
    " * Used to set up instantiation logic for objects\n",
    " * Will run automatically whenever an object is instantiated from a Class.\n",
    " * Purpose is to set the initial state for each object.\n",
    " * Has to be the very first method defined in the Class definition.\n",
    " * The <code>__init__()</code> method must return None, and has to include atleast 1 parameter. That parameter represents the object that is in the process of being created. Typically the parameter is taken as <code>self</code>, but it is not technically required (convention)."
   ]
  },
  {
   "cell_type": "code",
   "execution_count": 2,
   "id": "a287797a-a44f-4406-bd57-44fe803b7b39",
   "metadata": {},
   "outputs": [
    {
     "name": "stdout",
     "output_type": "stream",
     "text": [
      "A new Employee object is created! The employee is <__main__.Employee object at 0x0000018072701040>.\n",
      "<__main__.Employee object at 0x0000018072701040>\n",
      "Ram\n"
     ]
    }
   ],
   "source": [
    "class Employee():\n",
    "    def __init__(self):\n",
    "        print(f'A new Employee object is created! The employee is {self}.') # Run automatically when object is insantiated -> Magic Method.\n",
    "        \n",
    "ram = Employee() # 'self' is passed automatically.\n",
    "print(ram)\n",
    "\n",
    "ram.name = 'Ram'\n",
    "ram.age = 29\n",
    "ram.experience = 2\n",
    "print(ram.name)"
   ]
  },
  {
   "cell_type": "code",
   "execution_count": 3,
   "id": "5b7a5804-18c3-4759-98ad-f561a610768f",
   "metadata": {},
   "outputs": [
    {
     "name": "stdout",
     "output_type": "stream",
     "text": [
      "A new Employee object is created! The employee is <__main__.Employee object at 0x000001807273C250>.\n",
      "2\n"
     ]
    }
   ],
   "source": [
    "class Employee():\n",
    "    def __init__(self):\n",
    "        print(f'A new Employee object is created! The employee is {self}.') # Run automatically when object is insantiated -> Magic Method.\n",
    "        \n",
    "ram = Employee() # 'self' is passed automatically.\n",
    "\n",
    "# Adding attribules to object -> Should never be done this way\n",
    "# Allowed in python but not valid in a lot of programming languages\n",
    "ram.name = 'Ram'\n",
    "ram.age = 29\n",
    "ram.experience = 2\n",
    "print(ram.experience)"
   ]
  },
  {
   "cell_type": "code",
   "execution_count": 4,
   "id": "1c8ba26a-38e8-4096-9618-d577c68e0b85",
   "metadata": {},
   "outputs": [
    {
     "data": {
      "text/plain": [
       "32"
      ]
     },
     "execution_count": 4,
     "metadata": {},
     "output_type": "execute_result"
    }
   ],
   "source": [
    "class Employee():\n",
    "    def __init__(self, name, age, experience = 0):\n",
    "        self.name = name\n",
    "        self.age = age\n",
    "        self.experience = experience\n",
    "        \n",
    "emp = Employee('Amol', 32, 8)\n",
    "emp.age"
   ]
  },
  {
   "cell_type": "markdown",
   "id": "0e7acadc-0de4-4dba-8d64-bce71899aa88",
   "metadata": {},
   "source": [
    "### Instance Methods\n",
    " * <b>Instance methods:</b> They are methods that belong to an object.\n",
    " * Must take argument - 'self'."
   ]
  },
  {
   "cell_type": "code",
   "execution_count": 5,
   "id": "c9b7bcab-898a-48da-8178-9db55959c333",
   "metadata": {},
   "outputs": [
    {
     "name": "stdout",
     "output_type": "stream",
     "text": [
      "amol.das@company.com\n",
      "Junior\n"
     ]
    }
   ],
   "source": [
    "class Employee():\n",
    "    \n",
    "    def __init__(self, first_name, last_name, dob, experience = 0):\n",
    "        self.first_name = first_name  # -> Instance attributes\n",
    "        self.last_name = last_name\n",
    "        self.dob = dob\n",
    "        self.experience = experience\n",
    "        self.email = f'{self.first_name}.{self.last_name}@company.com'.lower()\n",
    "        \n",
    "    def category(self):  # -> Instance Method\n",
    "        \n",
    "        category = 'Senior' if self.experience > 3 else 'Junior'\n",
    "        return category\n",
    "        \n",
    "        \n",
    "emp1 = Employee('Amol', 'Das', '2/1/1990', 2)\n",
    "\n",
    "print(emp1.email)\n",
    "print(emp1.category())"
   ]
  },
  {
   "cell_type": "code",
   "execution_count": 6,
   "id": "79a4c634-4faa-4b5d-839f-3d6900acdb1e",
   "metadata": {},
   "outputs": [
    {
     "name": "stdout",
     "output_type": "stream",
     "text": [
      "Datta\n"
     ]
    },
    {
     "data": {
      "text/plain": [
       "'amol.das@company.com'"
      ]
     },
     "execution_count": 6,
     "metadata": {},
     "output_type": "execute_result"
    }
   ],
   "source": [
    "import datetime\n",
    "\n",
    "class Employee():\n",
    "    \n",
    "    def __init__(self, first_name, last_name, dob, experience = 0):\n",
    "        self.first_name = first_name  # Instance methods\n",
    "        self.last_name = last_name\n",
    "        self.dob = dob\n",
    "        self.experience = experience\n",
    "        self.email = f'{self.first_name}.{self.last_name}@company.com'.lower()\n",
    "    \n",
    "    def age(self):\n",
    "        \n",
    "        today = datetime.date.today()\n",
    "        birthdate = datetime.datetime.strptime(self.dob, '%d/%m/%Y')\n",
    "        age = today.year - birthdate.year\n",
    "\n",
    "        if today < datetime.date(today.year, birthdate.month, birthdate.day):\n",
    "            age -= 1\n",
    "\n",
    "        return age\n",
    "        \n",
    "emp1 = Employee('Amol', 'Das', '2/1/1990', 2)\n",
    "\n",
    "emp1.last_name = 'Datta'\n",
    "print(emp1.last_name)\n",
    "emp1.email # The output is not expected"
   ]
  },
  {
   "cell_type": "code",
   "execution_count": 7,
   "id": "2e88ee99-becb-4007-9499-cc025d95a656",
   "metadata": {},
   "outputs": [
    {
     "data": {
      "text/plain": [
       "'chinmoy.pal@company.com'"
      ]
     },
     "execution_count": 7,
     "metadata": {},
     "output_type": "execute_result"
    }
   ],
   "source": [
    "import datetime\n",
    "\n",
    "class Employee():\n",
    "    \n",
    "    def __init__(self, first_name, last_name, dob, experience = 0):\n",
    "        self.first_name = first_name  # Instance methods\n",
    "        self.last_name = last_name\n",
    "        self.dob = dob\n",
    "        self.experience = experience\n",
    "        self.email = f'{self.first_name}.{self.last_name}@company.com'.lower()\n",
    "    \n",
    "    def age(self):\n",
    "        \n",
    "        today = datetime.date.today()\n",
    "        birthdate = datetime.datetime.strptime(self.dob, '%d/%m/%Y')\n",
    "        age = today.year - birthdate.year\n",
    "\n",
    "        if today < datetime.date(today.year, birthdate.month, birthdate.day):\n",
    "            age -= 1\n",
    "\n",
    "        return age\n",
    "    \n",
    "    def change_name(self, new_name: str)->str:\n",
    "        self.first_name = new_name\n",
    "        self.email = f'{self.first_name}.{self.last_name}@company.com'.lower()\n",
    "        \n",
    "        \n",
    "emp2 = Employee('Bimal', 'Pal', '2/1/1980', 8)\n",
    "emp2.change_name('Chinmoy')\n",
    "emp2.email   # Expected behaviour."
   ]
  },
  {
   "cell_type": "markdown",
   "id": "69e2a100-8d77-4855-906b-45d3fae1e3f9",
   "metadata": {},
   "source": [
    "### Encapsulation\n",
    " * Data should be bundled together with methods that work on that data.\n",
    " * Object attributes should only be modified by instance methods, and not by setting the value from outside.\n",
    " * Protected variable: <code>_variable</code>\n",
    " * Python name mangling: <code>__variable</code>"
   ]
  },
  {
   "cell_type": "code",
   "execution_count": 8,
   "id": "f9b80eb5-d94a-4a10-95ab-a1f40957315f",
   "metadata": {},
   "outputs": [],
   "source": [
    "class Car():\n",
    "    \n",
    "    def __init__(self, brand, model, year, category):\n",
    "        self.brand = brand\n",
    "        self.model = model\n",
    "        self.year = year\n",
    "        self.category = category"
   ]
  },
  {
   "cell_type": "markdown",
   "id": "9fa61644-6d28-4cbc-a1e1-4dbf441bd42a",
   "metadata": {},
   "source": [
    "### Getter and Setter methods\n",
    " * Instance methods that get / set attribute values on an object.\n",
    " * A <b>Property</b> is a mix of an attribute and an instance method.\n",
    " \n",
    "### Define Class Properties with the <code>property()</code> method"
   ]
  },
  {
   "cell_type": "code",
   "execution_count": 9,
   "id": "65911fdf-207e-442f-a75a-a4dae4622284",
   "metadata": {},
   "outputs": [
    {
     "name": "stdout",
     "output_type": "stream",
     "text": [
      "5.0\n",
      "6.0\n",
      "6.0\n"
     ]
    }
   ],
   "source": [
    "class Height():\n",
    "    def __init__(self, feet):\n",
    "        self._inches = feet * 12\n",
    "\n",
    "    def _get_feet(self):\n",
    "        return self._inches / 12\n",
    "\n",
    "    def _set_feet(self, feet):\n",
    "        if feet >= 0:\n",
    "             self._inches = feet * 12\n",
    "\n",
    "    feet = property(_get_feet, _set_feet)\n",
    "\n",
    "h = Height(5)\n",
    "print(h.feet)\n",
    "\n",
    "h.feet = 6\n",
    "print(h.feet)\n",
    "\n",
    "h.feet = -10\n",
    "print(h.feet) "
   ]
  },
  {
   "cell_type": "markdown",
   "id": "b579975d-3692-43eb-b6c7-18033e9f8c3c",
   "metadata": {},
   "source": [
    "### Define Class Properties with decorators"
   ]
  },
  {
   "cell_type": "code",
   "execution_count": 10,
   "id": "69be12c2-b22a-49ef-b0e7-148f7eafe90c",
   "metadata": {},
   "outputs": [
    {
     "data": {
      "text/plain": [
       "'john'"
      ]
     },
     "execution_count": 10,
     "metadata": {},
     "output_type": "execute_result"
    }
   ],
   "source": [
    "local, at, domain = 'john.smith@example.org'.rpartition('@')\n",
    "local, at, domain\n",
    "local.split('.')[0]"
   ]
  },
  {
   "cell_type": "code",
   "execution_count": 11,
   "id": "d7650d2c-d0e5-462c-9ab7-ac85a6bf9b4e",
   "metadata": {},
   "outputs": [
    {
     "name": "stdout",
     "output_type": "stream",
     "text": [
      "Bimol Saha\n"
     ]
    }
   ],
   "source": [
    "class Person():\n",
    "    \n",
    "    def __init__(self, first, last):\n",
    "        self.first = first\n",
    "        self.last = last\n",
    "        \n",
    "    @property\n",
    "    def email(self):\n",
    "        return f'{self.first}.{self.last}@example.com'.lower()\n",
    "    \n",
    "    @email.setter\n",
    "    def email(self, email):\n",
    "        \n",
    "        import re\n",
    "        regex = r'\\b[A-Za-z0-9]+\\.[A-Za-z0-9]+@[A-Za-z0-9.-]+\\.[A-Z|a-z]{2,}\\b'\n",
    "        \n",
    "        def check_email(email):\n",
    "            ''' A function to check email ID validity which returns True or False.'''\n",
    "            return re.fullmatch(regex, email) is not None\n",
    "        \n",
    "        if check_email(email):\n",
    "            name, at, domain = email.rpartition('@')\n",
    "            self.first = name.split('.')[0].capitalize()\n",
    "            self.last = name.split('.')[1].capitalize()\n",
    "            \n",
    "        else:\n",
    "            print('The email id is invalid.')\n",
    "\n",
    "        \n",
    "p1 = Person('Ajay', 'Das')\n",
    "p1.email = 'bimol.saha@example.com'\n",
    "print(p1.first, p1.last)"
   ]
  },
  {
   "cell_type": "markdown",
   "id": "fe098a9b-9a44-410d-a320-1c848b608c72",
   "metadata": {},
   "source": [
    "### The <code>getattr</code> and <code>setattr</code> Methods"
   ]
  },
  {
   "cell_type": "code",
   "execution_count": 12,
   "id": "10d04665-69be-4e3f-af3d-8ad82f442989",
   "metadata": {},
   "outputs": [
    {
     "name": "stdout",
     "output_type": "stream",
     "text": [
      "Sunil Joshi\n",
      "27\n",
      "\n",
      "Sunil Joshi\n",
      "Undefined\n",
      "5\n",
      "Undefined\n"
     ]
    }
   ],
   "source": [
    "details = {\n",
    "    'name': 'Sunil Joshi',\n",
    "    'age': 27,\n",
    "    'experience': 5,\n",
    "    'type': 'sales'\n",
    "}\n",
    "\n",
    "class Agent():\n",
    "    \n",
    "    def __init__(self, details):\n",
    "        for key, value in details.items():\n",
    "            setattr (self, key, value) \n",
    "        \n",
    "agent1 = Agent(details)\n",
    "print(agent1.name)\n",
    "print(agent1.age, end='\\n\\n')\n",
    "\n",
    "for attr in ['name', 'salary', 'experience', 'email']:\n",
    "    print(getattr(agent1, attr, 'Undefined'))"
   ]
  },
  {
   "cell_type": "markdown",
   "id": "d51d2d57-4847-4b8c-8ea8-11ea50886a5f",
   "metadata": {},
   "source": [
    "### Class Methods\n",
    " * Methods defined on a Class"
   ]
  },
  {
   "cell_type": "code",
   "execution_count": 13,
   "id": "e82b1974-8000-4a50-9686-471d7759a329",
   "metadata": {},
   "outputs": [
    {
     "name": "stdout",
     "output_type": "stream",
     "text": [
      "A Tale of Two Cities\tThe Big Bang Theory\n"
     ]
    }
   ],
   "source": [
    "class Book():\n",
    "    def __init__(self, name, author, genre):\n",
    "        self.name = name\n",
    "        self.author = author\n",
    "        self.genre = genre\n",
    "        \n",
    "    @classmethod\n",
    "    def fiction(cls):\n",
    "        return cls(name = 'A Tale of Two Cities', author = 'Charles Dickens', genre = 'Fiction')\n",
    "    \n",
    "    @classmethod\n",
    "    def science(cls):\n",
    "        return cls(name = 'The Big Bang Theory', author = 'Stephen Hawkins', genre = 'Science')\n",
    "    \n",
    "book1 = Book.fiction()\n",
    "print(book1.name, end = '\\t')\n",
    "\n",
    "book2 = Book.science()\n",
    "print(book2.name)"
   ]
  },
  {
   "cell_type": "markdown",
   "id": "6833202f-67b6-4e53-a11e-201d493a2054",
   "metadata": {},
   "source": [
    "### Class Attributes"
   ]
  },
  {
   "cell_type": "code",
   "execution_count": 14,
   "id": "28701579-b769-485a-a5ff-6995d468255d",
   "metadata": {},
   "outputs": [
    {
     "data": {
      "text/plain": [
       "0"
      ]
     },
     "execution_count": 14,
     "metadata": {},
     "output_type": "execute_result"
    }
   ],
   "source": [
    "class Counter():\n",
    "    count = 0\n",
    "    \n",
    "Counter.count"
   ]
  },
  {
   "cell_type": "code",
   "execution_count": 15,
   "id": "43bb8b67-ad39-41e2-a6a0-15c8535da68b",
   "metadata": {},
   "outputs": [
    {
     "name": "stdout",
     "output_type": "stream",
     "text": [
      "Object created.\n",
      "1\n",
      "Object created.\n",
      "Object created.\n",
      "\n",
      "        New number of Counter objects created: 2\n",
      "        Total number of Counter objects: 3\n",
      "        \n",
      "3 3\n"
     ]
    }
   ],
   "source": [
    "class Counter():\n",
    "    count = 0\n",
    "    \n",
    "    def __init__(self):\n",
    "        print('Object created.')\n",
    "        Counter.count += 1\n",
    "        \n",
    "    @classmethod\n",
    "    def create_two_instances(cls):\n",
    "        \n",
    "        list_of_instances = [cls(), cls()]\n",
    "        print(f'''\n",
    "        New number of Counter objects created: {2}\n",
    "        Total number of Counter objects: {cls.count}\n",
    "        ''')\n",
    "        \n",
    "        return list_of_instances\n",
    "    \n",
    "c1 = Counter()\n",
    "print(c1.count)\n",
    "\n",
    "c2, c3 = Counter.create_two_instances()\n",
    "print(c2.count, c3.count)"
   ]
  },
  {
   "cell_type": "markdown",
   "id": "d876b1fe-b5ae-4b67-b8bc-84ccba08a4ab",
   "metadata": {},
   "source": [
    "### Static Methods\n",
    " * Static methods are utility methods that affect neither the Class nor the Attributes.\n",
    " * Almost acts like a function within a Class body."
   ]
  },
  {
   "cell_type": "code",
   "execution_count": 16,
   "id": "00472518-e869-4f62-9152-d78e34f761ee",
   "metadata": {},
   "outputs": [
    {
     "data": {
      "text/plain": [
       "[37.78, 38.89, 36.67, 35.56, 37.22]"
      ]
     },
     "execution_count": 16,
     "metadata": {},
     "output_type": "execute_result"
    }
   ],
   "source": [
    "class Temperature():\n",
    "    \n",
    "    def __init__(self, temperatures):\n",
    "        self.temperatures = temperatures\n",
    "        \n",
    "    @staticmethod\n",
    "    def convert_from_fahrenheit_to_celsius(fahr):\n",
    "        celsius = (5/9)*(fahr - 32)\n",
    "        return round(celsius, 2)\n",
    "    \n",
    "    def in_celsius(self):\n",
    "        return [self.convert_from_fahrenheit_to_celsius(temp) for temp in self.temperatures]\n",
    "    \n",
    "t1 = Temperature([100, 102, 98, 96, 99])\n",
    "t1.in_celsius()"
   ]
  }
 ],
 "metadata": {
  "kernelspec": {
   "display_name": "Python 3",
   "language": "python",
   "name": "python3"
  },
  "language_info": {
   "codemirror_mode": {
    "name": "ipython",
    "version": 3
   },
   "file_extension": ".py",
   "mimetype": "text/x-python",
   "name": "python",
   "nbconvert_exporter": "python",
   "pygments_lexer": "ipython3",
   "version": "3.8.8"
  }
 },
 "nbformat": 4,
 "nbformat_minor": 5
}
