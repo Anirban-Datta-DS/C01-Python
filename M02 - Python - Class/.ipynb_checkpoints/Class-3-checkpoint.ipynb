{
 "cells": [
  {
   "cell_type": "markdown",
   "id": "716f8674-3fc6-4fa4-a510-b8715edc97cb",
   "metadata": {},
   "source": [
    "# Python Classes: Inheritence\n",
    "## Inheritence\n",
    "* Inheritence is a design pattern in which a class inherits (or receives) attributes and methods from one or more other classes.\n",
    "* Helps to organize related classes and reduce duplication."
   ]
  },
  {
   "cell_type": "code",
   "execution_count": 1,
   "id": "d626a6d3-cdb3-4362-83cb-d6b52c1b3049",
   "metadata": {},
   "outputs": [
    {
     "name": "stdout",
     "output_type": "stream",
     "text": [
      "bimal.kar@example.com\n",
      "Business development\n",
      "None\n"
     ]
    }
   ],
   "source": [
    "class Employee():\n",
    "    \n",
    "    def __init__(self, first_name, last_name, department, designation, tenure):\n",
    "        self.first_name = first_name\n",
    "        self.last_name = last_name\n",
    "        self.department = department\n",
    "        self.designation = designation\n",
    "        self.tenure = tenure\n",
    "        \n",
    "    @property\n",
    "    def email(self):\n",
    "        return f'{self.first_name}.{self.last_name}@company.com'.lower()\n",
    "    \n",
    "    @email.setter\n",
    "    def email(self, email):\n",
    "        \n",
    "        import re\n",
    "        regex = r'\\b[A-Za-z0-9]+\\.[A-Za-z0-9]+@[A-Za-z0-9.-]+\\.[A-Z|a-z]{2,}\\b'\n",
    "        \n",
    "        def check_email(email):\n",
    "            ''' A function to check email ID validity which returns True or False.'''\n",
    "            return re.fullmatch(regex, email) is not None\n",
    "        \n",
    "        if check_email(email):\n",
    "            name, at, domain = email.rpartition('@')\n",
    "            self.first_name = name.split('.')[0].capitalize()\n",
    "            self.last_name = name.split('.')[1].capitalize()\n",
    "            \n",
    "        else:\n",
    "            print('The email id is invalid.')\n",
    "            \n",
    "class Agent(Employee):\n",
    "    \n",
    "    def responsibility(self):\n",
    "        print('Business development')\n",
    "        \n",
    "agent = Agent(first_name = 'Bimal', last_name = 'Kar', department = 'Sales', designation = 'Sales manager', tenure = '6 months')\n",
    "print(agent.email)\n",
    "print(agent.responsibility())"
   ]
  }
 ],
 "metadata": {
  "kernelspec": {
   "display_name": "Python 3",
   "language": "python",
   "name": "python3"
  },
  "language_info": {
   "codemirror_mode": {
    "name": "ipython",
    "version": 3
   },
   "file_extension": ".py",
   "mimetype": "text/x-python",
   "name": "python",
   "nbconvert_exporter": "python",
   "pygments_lexer": "ipython3",
   "version": "3.8.8"
  }
 },
 "nbformat": 4,
 "nbformat_minor": 5
}
