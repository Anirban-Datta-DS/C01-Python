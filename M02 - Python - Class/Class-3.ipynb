{
 "cells": [
  {
   "cell_type": "markdown",
   "id": "716f8674-3fc6-4fa4-a510-b8715edc97cb",
   "metadata": {},
   "source": [
    "# Python Classes: Inheritence\n",
    "## Inheritence <code></code>\n",
    "* Inheritence is a design pattern in which a class inherits (or receives) attributes and methods from one or more other classes.\n",
    "* Helps to organize related classes and reduce duplication.\n",
    "* (Parent Class / Super Class / Base Class) <code>---></code> (Child Class / Sub Class / Derived Class)\n",
    "* public <code>attr</code> and protected attributes <code>_attr</code>, properties and dunder methods are inherited.\n",
    "* The private, name-mangled attributes <code>__attr</code> are not inherited."
   ]
  },
  {
   "cell_type": "code",
   "execution_count": 2,
   "id": "d626a6d3-cdb3-4362-83cb-d6b52c1b3049",
   "metadata": {},
   "outputs": [
    {
     "name": "stdout",
     "output_type": "stream",
     "text": [
      "bimal.kar@company.com\n",
      "Business development\n",
      "None\n"
     ]
    }
   ],
   "source": [
    "class Employee():\n",
    "    \n",
    "    def __init__(self, first_name, last_name, department, designation, experience):\n",
    "        self.first_name = first_name\n",
    "        self.last_name = last_name\n",
    "        self.department = department\n",
    "        self.designation = designation\n",
    "        self.experience = experience\n",
    "        \n",
    "    @property\n",
    "    def email(self):\n",
    "        return f'{self.first_name}.{self.last_name}@company.com'.lower()\n",
    "    \n",
    "    @email.setter\n",
    "    def email(self, email):\n",
    "        \n",
    "        import re\n",
    "        regex = r'\\b[A-Za-z0-9]+\\.[A-Za-z0-9]+@[A-Za-z0-9.-]+\\.[A-Z|a-z]{2,}\\b'\n",
    "        \n",
    "        def check_email(email):\n",
    "            ''' A function to check email ID validity which returns True or False.'''\n",
    "            return re.fullmatch(regex, email) is not None\n",
    "        \n",
    "        if check_email(email):\n",
    "            name, at, domain = email.rpartition('@')\n",
    "            self.first_name = name.split('.')[0].capitalize()\n",
    "            self.last_name = name.split('.')[1].capitalize()\n",
    "            \n",
    "        else:\n",
    "            print('The email id is invalid.')\n",
    "            \n",
    "class Agent(Employee):\n",
    "    \n",
    "    def responsibility(self):\n",
    "        print('Business development')\n",
    "        \n",
    "agent = Agent(first_name = 'Bimal', last_name = 'Kar', department = 'Sales', designation = 'Sales manager', experience = '6 months')\n",
    "print(agent.email)\n",
    "print(agent.responsibility())"
   ]
  },
  {
   "cell_type": "markdown",
   "id": "cb8dd69a-3d53-4177-ab49-4998864c7abf",
   "metadata": {},
   "source": [
    "## Overriding Instance Methods of Parent Class"
   ]
  },
  {
   "cell_type": "code",
   "execution_count": 7,
   "id": "d5539e25-edc4-4dc1-885e-a379e3d9a88e",
   "metadata": {},
   "outputs": [
    {
     "name": "stdout",
     "output_type": "stream",
     "text": [
      "name: Amol\n",
      "designation: Agent\n",
      "department: Sales\n",
      "division: B2B\n"
     ]
    }
   ],
   "source": [
    "from dataclasses import dataclass\n",
    "from datetime import datetime\n",
    "\n",
    "@dataclass\n",
    "class Employee:\n",
    "    name: str\n",
    "    designation: str\n",
    "    department: str\n",
    "    DOJ: str\n",
    "        \n",
    "    def describe(self):\n",
    "        \n",
    "        result = {\n",
    "        'name': self.name,\n",
    "        'designation'   : self.designation,\n",
    "        'department': self.department\n",
    "        }\n",
    "        \n",
    "        for k in result:\n",
    "            print(f'{k}: {result[k]}')\n",
    "        \n",
    "        return result\n",
    "    \n",
    "class Agent(Employee):\n",
    "    \n",
    "    def __init__(self, name, designation, department, DOJ, division):\n",
    "        Employee.__init__(self, name, designation, department, DOJ)\n",
    "        self.division = division\n",
    "    \n",
    "    def describe(self):\n",
    "        \n",
    "        result = {\n",
    "        'name': self.name,\n",
    "        'designation'   : self.designation,\n",
    "        'department': self.department,\n",
    "        'division': self.division\n",
    "        }\n",
    "        \n",
    "        for k in result:\n",
    "            print(f'{k}: {result[k]}')\n",
    "    \n",
    "agent = Agent('Amol', 'Agent', 'Sales', '1/1/1990', 'B2B')\n",
    "\n",
    "agent.describe()"
   ]
  },
  {
   "cell_type": "code",
   "execution_count": null,
   "id": "5e457f52-4b82-439e-b76e-721a182248e7",
   "metadata": {},
   "outputs": [],
   "source": []
  }
 ],
 "metadata": {
  "kernelspec": {
   "display_name": "Python 3",
   "language": "python",
   "name": "python3"
  },
  "language_info": {
   "codemirror_mode": {
    "name": "ipython",
    "version": 3
   },
   "file_extension": ".py",
   "mimetype": "text/x-python",
   "name": "python",
   "nbconvert_exporter": "python",
   "pygments_lexer": "ipython3",
   "version": "3.8.8"
  }
 },
 "nbformat": 4,
 "nbformat_minor": 5
}
