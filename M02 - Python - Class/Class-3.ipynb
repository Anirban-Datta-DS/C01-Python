{
 "cells": [
  {
   "cell_type": "markdown",
   "id": "716f8674-3fc6-4fa4-a510-b8715edc97cb",
   "metadata": {},
   "source": [
    "# Python Classes: Polymorphism and Inheritence"
   ]
  },
  {
   "cell_type": "markdown",
   "id": "bc8bd4ad-bb36-41c9-8ee9-0fc9e84fe3f5",
   "metadata": {},
   "source": [
    "## Polymorphism\n",
    "* When an object or a method displays different characteristics (behaviour) in different circumstances (different context, different inputs etc), the object is said to exhibit 'Polymorphism'."
   ]
  },
  {
   "cell_type": "code",
   "execution_count": 1,
   "id": "7a0c2405-f580-40b7-bd19-90c2c7d45698",
   "metadata": {},
   "outputs": [
    {
     "name": "stdout",
     "output_type": "stream",
     "text": [
      "3\n",
      "[1, 3, 2, 4]\n",
      "('red', 'blue', 'yellow', 'green')\n",
      "John Smith\n"
     ]
    }
   ],
   "source": [
    "# Polymorphism by the addition() function\n",
    "def addition(a, b):\n",
    "    \n",
    "    return a+b\n",
    "\n",
    "print(addition(1,2))\n",
    "print(addition([1, 3], [2, 4]))\n",
    "print(addition(('red', 'blue'), ('yellow', 'green')))\n",
    "print(addition('John', ' Smith'))"
   ]
  },
  {
   "cell_type": "code",
   "execution_count": 2,
   "id": "9ce0da44-d199-44d3-b82e-1d21c0fbfa42",
   "metadata": {},
   "outputs": [
    {
     "data": {
      "text/plain": [
       "3"
      ]
     },
     "execution_count": 2,
     "metadata": {},
     "output_type": "execute_result"
    }
   ],
   "source": [
    "# Polymorphism by the inbuilt len() function\n",
    "import math\n",
    "\n",
    "class Rectangle():\n",
    "    \n",
    "    def __init__(self, height, width):\n",
    "        self.height = height\n",
    "        self.width = width\n",
    "        \n",
    "    def __len__(self):\n",
    "        return int(math.sqrt(self.height**2 + self.width**2))\n",
    "    \n",
    "rec = Rectangle(3,2)\n",
    "len(rec)"
   ]
  },
  {
   "cell_type": "markdown",
   "id": "94a30343-36a2-4de5-b5c1-bcc77acb78df",
   "metadata": {},
   "source": [
    "## Inheritence <code></code>\n",
    "* Inheritence is a design pattern in which a class inherits (or receives) attributes and methods from one or more other classes.\n",
    "* Helps to organize related classes and reduce duplication.\n",
    "* (Parent Class / Super Class / Base Class) <code>---></code> (Child Class / Sub Class / Derived Class)\n",
    "* public <code>attr</code> and protected attributes <code>_attr</code>, properties and dunder methods are inherited.\n",
    "* The private, name-mangled attributes <code>__attr</code> are not inherited."
   ]
  },
  {
   "cell_type": "code",
   "execution_count": 3,
   "id": "d626a6d3-cdb3-4362-83cb-d6b52c1b3049",
   "metadata": {},
   "outputs": [
    {
     "name": "stdout",
     "output_type": "stream",
     "text": [
      "bimal.kar@company.com\n",
      "Business development\n",
      "None\n"
     ]
    }
   ],
   "source": [
    "class Employee():\n",
    "    \n",
    "    def __init__(self, first_name, last_name, department, designation, experience):\n",
    "        self.first_name = first_name\n",
    "        self.last_name = last_name\n",
    "        self.department = department\n",
    "        self.designation = designation\n",
    "        self.experience = experience\n",
    "        \n",
    "    @property\n",
    "    def email(self):\n",
    "        return f'{self.first_name}.{self.last_name}@company.com'.lower()\n",
    "    \n",
    "    @email.setter\n",
    "    def email(self, email):\n",
    "        \n",
    "        import re\n",
    "        regex = r'\\b[A-Za-z0-9]+\\.[A-Za-z0-9]+@[A-Za-z0-9.-]+\\.[A-Z|a-z]{2,}\\b'\n",
    "        \n",
    "        def check_email(email):\n",
    "            ''' A function to check email ID validity which returns True or False.'''\n",
    "            return re.fullmatch(regex, email) is not None\n",
    "        \n",
    "        if check_email(email):\n",
    "            name, at, domain = email.rpartition('@')\n",
    "            self.first_name = name.split('.')[0].capitalize()\n",
    "            self.last_name = name.split('.')[1].capitalize()\n",
    "            \n",
    "        else:\n",
    "            print('The email id is invalid.')\n",
    "            \n",
    "class Agent(Employee):\n",
    "    \n",
    "    def responsibility(self):\n",
    "        print('Business development')\n",
    "        \n",
    "agent = Agent(first_name = 'Bimal', last_name = 'Kar', department = 'Sales', designation = 'Sales manager', experience = '6 months')\n",
    "print(agent.email)\n",
    "print(agent.responsibility())"
   ]
  },
  {
   "cell_type": "markdown",
   "id": "cb8dd69a-3d53-4177-ab49-4998864c7abf",
   "metadata": {},
   "source": [
    "## Overriding Instance Methods of Parent Class"
   ]
  },
  {
   "cell_type": "code",
   "execution_count": 4,
   "id": "d5539e25-edc4-4dc1-885e-a379e3d9a88e",
   "metadata": {},
   "outputs": [
    {
     "name": "stdout",
     "output_type": "stream",
     "text": [
      "name: Amol\n",
      "designation: Agent\n",
      "department: Sales\n",
      "division: B2B\n"
     ]
    }
   ],
   "source": [
    "from dataclasses import dataclass\n",
    "from datetime import datetime\n",
    "\n",
    "@dataclass\n",
    "class Employee:\n",
    "    name: str\n",
    "    designation: str\n",
    "    department: str\n",
    "    DOJ: str\n",
    "        \n",
    "    def describe(self):\n",
    "        \n",
    "        result = {\n",
    "        'name': self.name,\n",
    "        'designation'   : self.designation,\n",
    "        'department': self.department\n",
    "        }\n",
    "        \n",
    "        for k in result:\n",
    "            print(f'{k}: {result[k]}')\n",
    "        \n",
    "        return result\n",
    "    \n",
    "class Agent(Employee):\n",
    "    \n",
    "    def __init__(self, name, designation, department, DOJ, division):\n",
    "        Employee.__init__(self, name, designation, department, DOJ)\n",
    "        self.division = division\n",
    "    \n",
    "    def describe(self):\n",
    "        \n",
    "        result = {\n",
    "        'name': self.name,\n",
    "        'designation'   : self.designation,\n",
    "        'department': self.department,\n",
    "        'division': self.division\n",
    "        }\n",
    "        \n",
    "        for k in result:\n",
    "            print(f'{k}: {result[k]}')\n",
    "    \n",
    "agent = Agent('Amol', 'Agent', 'Sales', '1/1/1990', 'B2B')\n",
    "\n",
    "agent.describe()"
   ]
  },
  {
   "cell_type": "code",
   "execution_count": 5,
   "id": "5e457f52-4b82-439e-b76e-721a182248e7",
   "metadata": {},
   "outputs": [
    {
     "name": "stdout",
     "output_type": "stream",
     "text": [
      "\n",
      "        Rakesh is 31 years old.\n",
      "        He is a Teacher.\n",
      "        \n"
     ]
    }
   ],
   "source": [
    "class Person():\n",
    "    \n",
    "    def __init__(self, name, age):\n",
    "        self.name = name\n",
    "        self.age = age\n",
    "        \n",
    "    def describe(self):\n",
    "        \n",
    "        result = f'{self.name} is {self.age} years old.'\n",
    "        print(result)\n",
    "        \n",
    "class Worker(Person):\n",
    "    \n",
    "    def __init__(self, name, age, profession):\n",
    "        super().__init__(name, age)\n",
    "        self.profession = profession\n",
    "        \n",
    "    def describe(self):\n",
    "        \n",
    "        result = f'''\n",
    "        {self.name} is {self.age} years old.\n",
    "        He is a {self.profession}.\n",
    "        '''\n",
    "        print(result)\n",
    "        \n",
    "Rakesh = Worker('Rakesh', 31, 'Teacher')\n",
    "Rakesh.describe()"
   ]
  },
  {
   "cell_type": "markdown",
   "id": "56e7a599-2a23-4c2f-b122-5b0418c56595",
   "metadata": {},
   "source": [
    "## Multiple Inheritence"
   ]
  },
  {
   "cell_type": "code",
   "execution_count": 6,
   "id": "ea742d7c-3a76-458c-8744-7fb7e1a46654",
   "metadata": {},
   "outputs": [
    {
     "name": "stdout",
     "output_type": "stream",
     "text": [
      "Employee of EY.\n",
      "None\n",
      "Accessing organization intranet.\n",
      "None\n",
      "Employee Assigned.\n",
      "None\n"
     ]
    }
   ],
   "source": [
    "class Employee():\n",
    "    \n",
    "    def describe(self, company = 'EY'):\n",
    "        print(f'Employee of {company}.')\n",
    "        \n",
    "    def assignment(self):\n",
    "        print(f'Employee Assigned.')    # For mult. inheritence, the First Class will be prioritized while selecting methods.\n",
    "        \n",
    "class User():\n",
    "    \n",
    "    def access(self):\n",
    "        print('Accessing organization intranet.')\n",
    "        \n",
    "    def assignment(self):\n",
    "        print(f'User Assigned.')\n",
    "        \n",
    "class Agent(Employee, User):\n",
    "    pass\n",
    "\n",
    "a = Agent()\n",
    "print(a.describe())\n",
    "print(a.access())\n",
    "print(a.assignment())"
   ]
  },
  {
   "cell_type": "markdown",
   "id": "052e66e3-f8c5-4576-aa09-ea0f06240254",
   "metadata": {},
   "source": [
    "## Method Resolution Order\n",
    "* MRO is a built-in class method (not instance method) that shows the order of method resolution for a class"
   ]
  },
  {
   "cell_type": "code",
   "execution_count": 7,
   "id": "b70f8d5e-80de-4585-8068-8f8c2b04ae65",
   "metadata": {},
   "outputs": [
    {
     "data": {
      "text/plain": [
       "[__main__.Agent, __main__.Employee, __main__.User, object]"
      ]
     },
     "execution_count": 7,
     "metadata": {},
     "output_type": "execute_result"
    }
   ],
   "source": [
    "Agent.mro()"
   ]
  },
  {
   "cell_type": "code",
   "execution_count": 10,
   "id": "513913f9-7080-456d-84d8-288ca59c240e",
   "metadata": {},
   "outputs": [
    {
     "data": {
      "text/plain": [
       "[datetime.datetime, datetime.date, object]"
      ]
     },
     "execution_count": 10,
     "metadata": {},
     "output_type": "execute_result"
    }
   ],
   "source": [
    "from datetime import datetime\n",
    "datetime.mro()"
   ]
  },
  {
   "cell_type": "markdown",
   "id": "f614d291-4bc2-4d35-9c0a-a8470cb987a2",
   "metadata": {},
   "source": [
    "## Multiple Inheritence: Breadth First and Depth First search"
   ]
  },
  {
   "cell_type": "code",
   "execution_count": 11,
   "id": "92828b61-3e4c-4f56-9bb3-037ba301b930",
   "metadata": {},
   "outputs": [
    {
     "name": "stdout",
     "output_type": "stream",
     "text": [
      "Booked a table for 2.\n"
     ]
    }
   ],
   "source": [
    "class Resturant():\n",
    "    def make_reservation(self, party_size):\n",
    "        print(f'Booked a table for {party_size}.')\n",
    "        \n",
    "class Steakhouse(Resturant):\n",
    "    pass\n",
    "\n",
    "class Bar():\n",
    "    def make_reservation(self, party_size):\n",
    "        pring(f'Booked a lounge for {party_size}.')\n",
    "        \n",
    "class BarAndGrill(Steakhouse, Bar):\n",
    "    pass\n",
    "\n",
    "bag = BarAndGrill()\n",
    "bag.make_reservation(2)"
   ]
  },
  {
   "cell_type": "markdown",
   "id": "7d48b4a5-d4de-4565-ae7f-340acc3bfc6e",
   "metadata": {},
   "source": [
    "## The <code>isinstance()</code> and <code>issubclass()</code> methods"
   ]
  },
  {
   "cell_type": "code",
   "execution_count": null,
   "id": "4033ffc5-b7fb-41f9-a647-a519a10c1931",
   "metadata": {},
   "outputs": [],
   "source": [
    "class Person():\n",
    "    \n",
    "    def __init__(self, name = 'John', mobile = 90000110011):\n",
    "        self.name = name\n",
    "        self.mobile = mobile\n",
    "        \n",
    "    def describe(self):\n",
    "        return 'This is a person.'\n",
    "    \n",
    "class Employee(Person):\n",
    "    \n",
    "    def __init__(self, name, mobile, department, designation):\n",
    "        super().__init__(name, mobile)\n",
    "        self.department = department\n",
    "        self.designation = designation\n",
    "        \n",
    "    def describe(self):\n",
    "        return 'This is an employee.'\n",
    "    \n",
    "class Agent(Employee):\n",
    "    \n",
    "    def __init__(self, name = 'John', mobile = 9000110011, department=  'Marketing', designation = 'Associate', product = 'CRM', target = 2):\n",
    "        super().__init__(name, mobile, department, designation)\n",
    "        self.product = product\n",
    "        self.target = target\n",
    "        \n",
    "    def describe(self):\n",
    "        return 'This is an agent.'"
   ]
  }
 ],
 "metadata": {
  "kernelspec": {
   "display_name": "Python 3",
   "language": "python",
   "name": "python3"
  },
  "language_info": {
   "codemirror_mode": {
    "name": "ipython",
    "version": 3
   },
   "file_extension": ".py",
   "mimetype": "text/x-python",
   "name": "python",
   "nbconvert_exporter": "python",
   "pygments_lexer": "ipython3",
   "version": "3.8.8"
  }
 },
 "nbformat": 4,
 "nbformat_minor": 5
}
