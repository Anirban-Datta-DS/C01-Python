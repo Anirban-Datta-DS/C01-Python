{
 "cells": [
  {
   "cell_type": "markdown",
   "id": "ca749282-e874-4a39-8f4d-f179915c121d",
   "metadata": {},
   "source": [
    "## Functions\n",
    "### Scope\n",
    "LEGB: Local -> Enclosing funtion -> Global -> Built-in"
   ]
  },
  {
   "cell_type": "code",
   "execution_count": 7,
   "id": "462f5af0-b7d8-4646-92e2-52749dff6f90",
   "metadata": {
    "tags": []
   },
   "outputs": [
    {
     "name": "stdout",
     "output_type": "stream",
     "text": [
      "a = 1\n",
      "a = 2 a = 3\n"
     ]
    }
   ],
   "source": [
    "a = 1\n",
    "\n",
    "def simple():\n",
    "    \n",
    "    return f'a = {a}'\n",
    "\n",
    "def outer():\n",
    "    \n",
    "    a = 2\n",
    "    \n",
    "    def inner():\n",
    "        \n",
    "        a = 3\n",
    "        return f'a = {a}'\n",
    "    \n",
    "    return f'a = {a}', inner()\n",
    "\n",
    "print(simple())\n",
    "print(*outer())"
   ]
  },
  {
   "cell_type": "markdown",
   "id": "9e792741-0734-4841-9176-e509b3bac409",
   "metadata": {},
   "source": [
    "### Global and Non-local scope"
   ]
  },
  {
   "cell_type": "code",
   "execution_count": 1,
   "id": "26b237b4-e17a-4214-8b1f-c098f56dfd17",
   "metadata": {},
   "outputs": [
    {
     "data": {
      "text/plain": [
       "(5, 6)"
      ]
     },
     "execution_count": 1,
     "metadata": {},
     "output_type": "execute_result"
    }
   ],
   "source": [
    "a = 1 \n",
    "b = 2\n",
    "\n",
    "def func1():\n",
    "    \n",
    "    a = 3 \n",
    "    b = 4\n",
    "    \n",
    "    def func2():\n",
    "        \n",
    "        # global a, b\n",
    "        nonlocal a, b\n",
    "        \n",
    "        a = 5 \n",
    "        b = 6\n",
    "        \n",
    "        return a, b\n",
    "    \n",
    "    func2()\n",
    "    return a, b\n",
    "\n",
    "func1()"
   ]
  },
  {
   "cell_type": "markdown",
   "id": "a6d9f863-33fc-403f-a364-0f757eb64760",
   "metadata": {},
   "source": [
    "### Decorator\n",
    "* A decorator is a function that accepts a function as parameter and returns a function as output."
   ]
  },
  {
   "cell_type": "code",
   "execution_count": 12,
   "id": "b91eb3f4-f415-4a75-836d-a2fce731a3a2",
   "metadata": {},
   "outputs": [
    {
     "name": "stdout",
     "output_type": "stream",
     "text": [
      "Start\n",
      "Anything!\n",
      "Time taken: 0.0\n"
     ]
    }
   ],
   "source": [
    "import time\n",
    "\n",
    "def decor(func):\n",
    "    \n",
    "    def inner(): # The wrapper function\n",
    "        print('Start')\n",
    "        start = time.time()\n",
    "        func()\n",
    "        end = time.time()\n",
    "        time_taken = end - start\n",
    "        print(f'Time taken: {time_taken}')\n",
    "        \n",
    "    return inner\n",
    "\n",
    "def simple():\n",
    "    print('Hi!')\n",
    "    \n",
    "def complicated():\n",
    "    print('Saluatations!')\n",
    "\n",
    "@decor\n",
    "def my_func():\n",
    "    print('This is my_func!')"
   ]
  },
  {
   "cell_type": "markdown",
   "id": "fbb7a045-c13d-46b5-8bb9-d9ea167a05c8",
   "metadata": {},
   "source": [
    "#### Passing <code>*args</code> and <code>**kwargs</code> to a decorator"
   ]
  },
  {
   "cell_type": "code",
   "execution_count": 13,
   "id": "d7e9e3b1-b973-41d3-a70b-57de0a40c27c",
   "metadata": {},
   "outputs": [
    {
     "name": "stdout",
     "output_type": "stream",
     "text": [
      "(1, 2)\n",
      "{'a': 'John', 'b': 'Peters'}\n"
     ]
    }
   ],
   "source": [
    "def func(*args, **kwargs):\n",
    "    print(args)\n",
    "    print(kwargs)\n",
    "    \n",
    "func(1,2, a = 'John', b = 'Peters')"
   ]
  },
  {
   "cell_type": "code",
   "execution_count": 46,
   "id": "b4ea86a5-72c6-4ba2-8ae9-b2268fb8bb91",
   "metadata": {},
   "outputs": [],
   "source": [
    "import time\n",
    "\n",
    "def decor(func):\n",
    "    \n",
    "    def inner(*args, **kwargs): # --> This is where the input values are packed into arg tuple and kwarg dic.\n",
    "        '''The wrapper function.'''\n",
    "        print('Start')\n",
    "        start = time.time()\n",
    "        print(func(*args, **kwargs)) # --> At this function call, the input values are unpacked.\n",
    "        end = time.time()\n",
    "        time_taken = end - start\n",
    "        print(f'Time taken: {time_taken}')\n",
    "#         return func(*args, **kwargs)\n",
    "        \n",
    "    return inner\n",
    "\n",
    "# A function to calculate factorial.\n",
    "\n",
    "@decor\n",
    "def factorial(num):\n",
    "    \n",
    "    res = 1\n",
    "    while num >=1:\n",
    "        res*=num\n",
    "        num-=1\n",
    "    \n",
    "    return res"
   ]
  },
  {
   "cell_type": "code",
   "execution_count": 47,
   "id": "42fb14e7-4231-4478-99e8-cfb6b4e80343",
   "metadata": {},
   "outputs": [
    {
     "name": "stdout",
     "output_type": "stream",
     "text": [
      "Start\n"
     ]
    },
    {
     "data": {
      "image/png": "[encoded data removed]",
      "text/plain": [
       "<Figure size 432x288 with 1 Axes>"
      ]
     },
     "metadata": {
      "needs_background": "light"
     },
     "output_type": "display_data"
    },
    {
     "name": "stdout",
     "output_type": "stream",
     "text": [
      "None\n",
      "Time taken: 0.18698430061340332\n"
     ]
    }
   ],
   "source": [
    "# A function to draw rectangles\n",
    "import matplotlib.pyplot as plt\n",
    "from matplotlib.patches import Rectangle\n",
    "import time\n",
    "\n",
    "def decor(func):\n",
    "    \n",
    "    def inner(*args, **kwargs): # The wrapper function\n",
    "        print('Start')\n",
    "        start = time.time()\n",
    "        print(func(*args, **kwargs))\n",
    "        end = time.time()\n",
    "        time_taken = end - start\n",
    "        print(f'Time taken: {time_taken}')\n",
    "        \n",
    "    return inner\n",
    "\n",
    "@decor\n",
    "def draw_rectangle(lower_left_point, width, height, color):\n",
    "    \n",
    "    fig, ax = plt.subplots()\n",
    "    plt.axis([-20, 20, -10, 10])\n",
    "    ax.grid(True, which='both', linestyle='dotted')\n",
    "    \n",
    "    ax.add_patch(Rectangle(lower_left_point, width, height, color = color))\n",
    "    plt.show()\n",
    "    \n",
    "draw_rectangle((-5, -2.5), 10, 5, 'green')"
   ]
  },
  {
   "cell_type": "markdown",
   "id": "1d114d74-e447-4f7f-9d96-37559d3e6191",
   "metadata": {},
   "source": [
    "#### Returning a value through a decorated function"
   ]
  },
  {
   "cell_type": "code",
   "execution_count": 48,
   "id": "3c2a13a2-ccf8-4400-bbaf-bb9a8164a45f",
   "metadata": {},
   "outputs": [
    {
     "name": "stdout",
     "output_type": "stream",
     "text": [
      "Start\n",
      "Time taken: 0.0\n"
     ]
    },
    {
     "data": {
      "text/plain": [
       "5"
      ]
     },
     "execution_count": 48,
     "metadata": {},
     "output_type": "execute_result"
    }
   ],
   "source": [
    "import time\n",
    "\n",
    "def decor(func):\n",
    "    \n",
    "    def inner(*args, **kwargs): # --> This is where the input values are packed into arg tuple and kwarg dic.\n",
    "        '''The wrapper function.'''\n",
    "        print('Start')\n",
    "        start = time.time()\n",
    "#         print(func(*args, **kwargs)) # --> At this function call, the input values are unpacked.\n",
    "        end = time.time()\n",
    "        time_taken = end - start\n",
    "        print(f'Time taken: {time_taken}')\n",
    "        return func(*args, **kwargs)\n",
    "    \n",
    "    return inner\n",
    "\n",
    "@decor\n",
    "def my_add(a, b):\n",
    "    return a+b\n",
    "\n",
    "my_add(2, 3)"
   ]
  },
  {
   "cell_type": "markdown",
   "id": "c04ff619-94d6-4811-b35b-64c7b5da26f7",
   "metadata": {},
   "source": [
    "#### The <code>functools.wraps()</code> decorator\n",
    "The <code>functools.wraps()</code> decorator helps preserve the documentation of the original function being wrapped."
   ]
  },
  {
   "cell_type": "code",
   "execution_count": 51,
   "id": "4c9995ac-0bad-4349-a45b-ab841997f61f",
   "metadata": {},
   "outputs": [
    {
     "name": "stdout",
     "output_type": "stream",
     "text": [
      "Help on function my_func in module __main__:\n",
      "\n",
      "my_func(a, b)\n",
      "    A function to return the sum of 2 inputs.\n",
      "\n"
     ]
    }
   ],
   "source": [
    "import time\n",
    "import functools\n",
    "\n",
    "def decor(func):\n",
    "    \n",
    "    @functools.wraps(func)\n",
    "    def inner(*args, **kwargs): # --> This is where the input values are packed into arg tuple and kwarg dic.\n",
    "        '''The wrapper function.'''\n",
    "        print('Start')\n",
    "        start = time.time()\n",
    "#         print(func(*args, **kwargs)) # --> At this function call, the input values are unpacked.\n",
    "        end = time.time()\n",
    "        time_taken = end - start\n",
    "        print(f'Time taken: {time_taken}')\n",
    "        return func(*args, **kwargs)\n",
    "    \n",
    "    return inner\n",
    "\n",
    "@decor\n",
    "def my_func(a, b):\n",
    "    '''A function to return the sum of 2 inputs.'''\n",
    "    return a+b\n",
    "\n",
    "help(my_func)"
   ]
  }
 ],
 "metadata": {
  "kernelspec": {
   "display_name": "Python 3",
   "language": "python",
   "name": "python3"
  },
  "language_info": {
   "codemirror_mode": {
    "name": "ipython",
    "version": 3
   },
   "file_extension": ".py",
   "mimetype": "text/x-python",
   "name": "python",
   "nbconvert_exporter": "python",
   "pygments_lexer": "ipython3",
   "version": "3.8.8"
  }
 },
 "nbformat": 4,
 "nbformat_minor": 5
}
